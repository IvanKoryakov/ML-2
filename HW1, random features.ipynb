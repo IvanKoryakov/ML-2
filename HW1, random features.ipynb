{
  "cells": [
    {
      "cell_type": "markdown",
      "metadata": {
        "id": "RYp0bXOFK-hP"
      },
      "source": [
        "# Машинное обучение, ФКН ВШЭ\n",
        "\n",
        "## Практическое задание 8. Метод опорных векторов и аппроксимация ядер\n",
        "\n",
        "### Общая информация\n",
        "\n",
        "Дата выдачи: 30.01.2025\n",
        "\n",
        "Мягкий дедлайн: 23:59MSK 16.02.2025\n",
        "\n",
        "Жесткий дедлайн: 23:59MSK 23.02.2025\n",
        "\n",
        "### Оценивание и штрафы\n",
        "Каждая из задач имеет определенную «стоимость» (указана в скобках около задачи). Максимальная оценка за работу (без учёта бонусов) — 10 баллов.\n",
        "\n",
        "Сдавать задание после указанного жёсткого срока сдачи нельзя. При выставлении неполного балла за задание в связи с наличием ошибок на усмотрение проверяющего предусмотрена возможность исправить работу на указанных в ответном письме условиях.\n",
        "\n",
        "Задание выполняется самостоятельно. «Похожие» решения считаются плагиатом и все задействованные студенты (в том числе те, у кого списали) не могут получить за него больше 0 баллов (подробнее о плагиате см. на странице курса). Если вы нашли решение какого-то из заданий (или его часть) в открытом источнике, необходимо указать ссылку на этот источник в отдельном блоке в конце вашей работы (скорее всего вы будете не единственным, кто это нашел, поэтому чтобы исключить подозрение в плагиате, необходима ссылка на источник).\n",
        "\n",
        "Использование генеративных языковых моделей разрешено только в случае явного указания на это. Необходимо прописать (в соответствующих пунктах, где использовались, либо в начале/конце работы):\n",
        "- какая языковая модель использовалась\n",
        "- какие использовались промпты и в каких частях работы\n",
        "- с какими сложностями вы столкнулись при использовании генеративных моделей, с чем они помогли больше всего\n",
        "\n",
        "Неэффективная реализация кода может негативно отразиться на оценке.\n",
        "\n",
        "### Формат сдачи\n",
        "Задания сдаются через систему anytask. Посылка должна содержать:\n",
        "* Ноутбук homework-practice-08-random-features-Username.ipynb\n",
        "\n",
        "Username — ваша фамилия и имя на латинице именно в таком порядке"
      ]
    },
    {
      "cell_type": "markdown",
      "metadata": {
        "id": "vY8vT0W_K-hR"
      },
      "source": [
        "### О задании\n",
        "\n",
        "На занятиях мы подробно обсуждали метод опорных векторов (SVM). В базовой версии в нём нет чего-то особенного — мы всего лишь используем специальную функцию потерь, которая не требует устремлять отступы к бесконечности; ей достаточно, чтобы отступы были не меньше +1. Затем мы узнали, что SVM можно переписать в двойственном виде, который, позволяет заменить скалярные произведения объектов на ядра. Это будет соответствовать построению модели в новом пространстве более высокой размерности, координаты которого представляют собой нелинейные модификации исходных признаков.\n",
        "\n",
        "Ядровой SVM, к сожалению, довольно затратен по памяти (нужно хранить матрицу Грама размера $d \\times d$) и по времени (нужно решать задачу условной оптимизации с квадратичной функцией, а это не очень быстро). Мы обсуждали, что есть способы посчитать новые признаки $\\tilde \\varphi(x)$ на основе исходных так, что скалярные произведения этих новых $\\langle \\tilde \\varphi(x), \\tilde \\varphi(z) \\rangle$ приближают ядро $K(x, z)$.\n",
        "\n",
        "Мы будем исследовать аппроксимации методом Random Fourier Features (RFF, также в литературе встречается название Random Kitchen Sinks) для гауссовых ядер. Будем использовать формулы, которые немного отличаются от того, что было на лекциях (мы добавим сдвиги внутрь тригонометрических функций и будем использовать только косинусы, потому что с нужным сдвигом косинус превратится в синус):\n",
        "$$\\tilde \\varphi(x) = (\n",
        "\\cos (w_1^T x + b_1),\n",
        "\\dots,\n",
        "\\cos (w_n^T x + b_n)\n",
        "),$$\n",
        "где $w_j \\sim \\mathcal{N}(0, 1/\\sigma^2)$, $b_j \\sim U[-\\pi, \\pi]$.\n",
        "\n",
        "На новых признаках $\\tilde \\varphi(x)$ мы будем строить любую линейную модель.\n",
        "\n",
        "Можно считать, что это некоторая новая парадигма построения сложных моделей. Можно направленно искать сложные нелинейные закономерности в данных с помощью градиентного бустинга или нейронных сетей, а можно просто нагенерировать большое количество случайных нелинейных признаков и надеяться, что быстрая и простая модель (то есть линейная) сможет показать на них хорошее качество. В этом задании мы изучим, насколько работоспособна такая идея.\n",
        "\n",
        "### Алгоритм\n",
        "\n",
        "Вам потребуется реализовать следующий алгоритм:\n",
        "1. Понизить размерность выборки до new_dim с помощью метода главных компонент.\n",
        "2. Для полученной выборки оценить гиперпараметр $\\sigma^2$ с помощью эвристики (рекомендуем считать медиану не по всем парам объектов, а по случайному подмножеству из где-то миллиона пар объектов): $$\\sigma^2 = \\text{median}_{i, j = 1, \\dots, \\ell, i \\neq j} \\left\\{\\sum_{k = 1}^{d} (x_{ik} - x_{jk})^2 \\right\\}$$\n",
        "3. Сгенерировать n_features наборов весов $w_j$ и сдвигов $b_j$.\n",
        "4. Сформировать n_features новых признаков по формулам, приведённым выше.\n",
        "5. Обучить линейную модель (логистическую регрессию или SVM) на новых признаках.\n",
        "6. Повторить преобразования (PCA, формирование новых признаков) к тестовой выборке и применить модель."
      ]
    },
    {
      "cell_type": "code",
      "execution_count": 1,
      "metadata": {
        "id": "TwQn7A0Ov7Nu"
      },
      "outputs": [],
      "source": [
        "%load_ext autoreload\n",
        "%autoreload 2"
      ]
    },
    {
      "cell_type": "markdown",
      "metadata": {
        "id": "N_sGunb7K-hS"
      },
      "source": [
        "Тестировать алгоритм мы будем на данных Fashion MNIST. Ниже код для их загрузки и подготовки."
      ]
    },
    {
      "cell_type": "code",
      "execution_count": 2,
      "metadata": {
        "id": "YyG6dBfjK-hS"
      },
      "outputs": [],
      "source": [
        "import numpy as np\n",
        "\n",
        "# 1 Способ\n",
        "import keras\n",
        "from keras.datasets import fashion_mnist\n",
        "(x_train_pics, y_train), (x_test_pics, y_test) = fashion_mnist.load_data()\n",
        "\n",
        "# 2 Способ (если первый не работает)\n",
        "# from sklearn.datasets import fetch_openml\n",
        "# def load_fashion_mnist():\n",
        "#     X, y = fetch_openml('Fashion-MNIST', version=1, return_X_y=True, as_frame=False)\n",
        "#     X = X.reshape(-1, 28, 28).astype('uint8')\n",
        "#     y = y.astype('int64')\n",
        "#     x_train, x_test = X[:60000], X[60000:]\n",
        "#     y_train, y_test = y[:60000], y[60000:]\n",
        "#     return (x_train, y_train), (x_test, y_test)\n",
        "# (x_train_pics, y_train), (x_test_pics, y_test) = load_fashion_mnist()\n",
        "\n",
        "\n",
        "\n",
        "\n",
        "x_train = x_train_pics.reshape(y_train.shape[0], -1)\n",
        "x_test = x_test_pics.reshape(y_test.shape[0], -1)"
      ]
    },
    {
      "cell_type": "markdown",
      "metadata": {
        "id": "0TwZSZeav7Nw"
      },
      "source": [
        "__Задание 0. (0.25 баллов)__\n",
        "\n",
        "**Вопрос:** зачем в алгоритме нужен метод главных компонент?\n",
        "\n",
        "**Ответ:** Метод главных компонент используется в данном алгоритме для понижения размерности выборки, что позволяет уменьшить количество признаков в исходных данных перед применением дальнейших шагов, благодаря чему:\n",
        "\n",
        "Снижаются вычислительные затраты, так как количество признаков становится меньше, следовательно требуется меньше вычислений в RFF.\n",
        "\n",
        "Сохраняется наиболее важная информация, потому что МГК оставляет наиболее важные компоненты, которые объясняют максимальную дисперсию в данных, следовательно эффективность алгоритма RFF повышается.\n",
        "\n",
        "Снижается шум, так как уменьшается количество неинформативных признаков, тем самым растет качество алгоритма RFF.\n"
      ]
    },
    {
      "cell_type": "markdown",
      "metadata": {
        "id": "rJNN55F7K-hT"
      },
      "source": [
        "__Задание 1. (3 балла)__\n",
        "\n",
        "Реализуйте алгоритм, описанный выше. Можете воспользоваться шаблоном класса в `homework_practice_08_rff.py` (допишите его и исправьте несостыковки в классе пайплайна) или написать свой интерфейс.\n",
        "\n",
        "Ваша реализация должна поддерживать следующие опции:\n",
        "1. Возможность задавать значения гиперпараметров new_dim (по умолчанию 50) и n_features (по умолчанию 1000).\n",
        "2. Возможность включать или выключать предварительное понижение размерности с помощью метода главных компонент.\n",
        "3. Возможность выбирать тип линейной модели (логистическая регрессия или SVM с линейным ядром).\n",
        "\n",
        "Протестируйте на данных Fashion MNIST, сформированных кодом выше. Если на тесте у вас получилась доля верных ответов не ниже 0.84 с гиперпараметрами по умолчанию, то вы всё сделали правильно."
      ]
    },
    {
      "cell_type": "code",
      "source": [
        "from collections import UserDict\n",
        "import numpy as np\n",
        "\n",
        "from typing import Callable\n",
        "\n",
        "from sklearn.base import BaseEstimator, TransformerMixin\n",
        "from sklearn.decomposition import PCA\n",
        "from sklearn.linear_model import LogisticRegression\n",
        "from sklearn.pipeline import Pipeline\n",
        "from sklearn.svm import LinearSVC\n",
        "from sklearn.svm import SVC\n",
        "from math import pi\n",
        "from scipy.stats import chi\n",
        "\n",
        "\n",
        "class FeatureCreatorPlaceholder(BaseEstimator, TransformerMixin):\n",
        "    def __init__(self, n_features, new_dim, func: Callable = np.cos):\n",
        "        self.n_features = n_features\n",
        "        self.new_dim = new_dim\n",
        "        self.w = None\n",
        "        self.b = None\n",
        "        self.func = func\n",
        "\n",
        "    def fit(self, X, y=None):\n",
        "        return self\n",
        "\n",
        "    def transform(self, X, y=None):\n",
        "        return X\n",
        "\n",
        "\n",
        "class RandomFeatureCreator(FeatureCreatorPlaceholder):\n",
        "    def fit(self, X, y=None):\n",
        "        n_samples = X.shape[0]\n",
        "        sample_indices = np.random.choice(n_samples, size=(1000000, 2), replace=True)\n",
        "        distances = np.sum((X[sample_indices[:, 0]] - X[sample_indices[:, 1]]) ** 2, axis=1)\n",
        "        sigma = np.sqrt(np.median(distances))\n",
        "        self.w = np.random.normal(loc=0, scale=1/sigma, size=(self.n_features, X.shape[1]))\n",
        "        self.b = np.random.uniform(low=-pi, high=pi, size=self.n_features)\n",
        "        return self\n",
        "\n",
        "    def transform(self, X, y=None):\n",
        "        return self.func(X @ self.w.T + self.b)\n",
        "\n",
        "\n",
        "class OrthogonalRandomFeatureCreator(RandomFeatureCreator):\n",
        "    def fit(self, X, y=None):\n",
        "        n_samples = X.shape[0]\n",
        "        sample_indices = np.random.choice(n_samples, size=(1000000, 2), replace=True)\n",
        "        distances = np.sum((X[sample_indices[:, 0]] - X[sample_indices[:, 1]]) ** 2, axis=1)\n",
        "        sigma = np.sqrt(np.median(distances))\n",
        "\n",
        "        G = np.random.normal(0, 1, (self.n_features, X.shape[1]))\n",
        "        Q, _ = np.linalg.qr(G)\n",
        "        S = np.diag(chi.rvs(df=self.n_features, size=self.n_features))\n",
        "        self.w = 1/sigma * S @ Q\n",
        "        self.b = np.random.uniform(low=-pi, high=pi, size=self.n_features)\n",
        "        return self\n",
        "\n",
        "    def transform(self, X, y=None):\n",
        "        if self.n_features < X.shape[1]:\n",
        "            X = X[:, :self.n_features]\n",
        "        return self.func(X @ self.w.T + self.b)\n",
        "\n",
        "class RandomBinningFeatureCreator(FeatureCreatorPlaceholder):\n",
        "  def fit(self, X, y=None):\n",
        "        self.n_samples, self.new_dim = X.shape\n",
        "        self.deltas = np.array([np.random.gamma(shape=2, scale=1.0) for _ in range(self.new_dim)])\n",
        "        self.us = np.array([np.random.uniform(low=0.0, high=delta) for delta in self.deltas])\n",
        "        return self\n",
        "\n",
        "  def transform(self, X, y=None):\n",
        "        Z = []\n",
        "        for i in range(self.n_samples):\n",
        "            z = []\n",
        "            x = X[i]\n",
        "            for p in range(self.n_features):\n",
        "\n",
        "                z_p = np.ceil((x - self.us) / self.deltas).astype(int)\n",
        "                z.append(z_p)\n",
        "            Z.append(np.concatenate(z))\n",
        "        return (np.array(Z))/np.sqrt(self.n_features)\n",
        "\n",
        "class RFFPipeline(BaseEstimator):\n",
        "    \"\"\"\n",
        "    Пайплайн, делающий последовательно три шага:\n",
        "        1. Применение PCA\n",
        "        2. Применение RFF\n",
        "        3. Применение классификатора\n",
        "    \"\"\"\n",
        "    def __init__(\n",
        "            self,\n",
        "            n_features: int = 1000,\n",
        "            new_dim: int = 50,\n",
        "            use_PCA: bool = True,\n",
        "            feature_creator_class=FeatureCreatorPlaceholder,\n",
        "            classifier_class=LogisticRegression,\n",
        "            classifier_params=None,\n",
        "            func=np.cos,\n",
        "    ):\n",
        "        \"\"\"\n",
        "        :param n_features: Количество признаков, генерируемых RFF\n",
        "        :param new_dim: Количество признаков, до которых сжимает PCA\n",
        "        :param use_PCA: Использовать ли PCA\n",
        "        :param feature_creator_class: Класс, создающий признаки, по умолчанию заглушка\n",
        "        :param classifier_class: Класс классификатора\n",
        "        :param classifier_params: Параметры, которыми инициализируется классификатор\n",
        "        :param func: Функция, которую получает feature_creator при инициализации.\n",
        "                     Если не хотите, можете не использовать этот параметр.\n",
        "        \"\"\"\n",
        "        self.n_features = n_features\n",
        "        self.new_dim = new_dim\n",
        "        self.use_PCA = use_PCA\n",
        "        if classifier_params is None:\n",
        "            classifier_params = {}\n",
        "        self.classifier_class = classifier_class\n",
        "        self.classifier_params = classifier_params\n",
        "        self.classifier = self.classifier_class(**self.classifier_params)\n",
        "        self.feature_creator_class = feature_creator_class\n",
        "        self.func = func\n",
        "        self.feature_creator = self.feature_creator_class(\n",
        "            n_features=self.n_features, new_dim=self.new_dim, func=self.func\n",
        "        )\n",
        "        self.pca = PCA(n_components=self.new_dim) if use_PCA else None\n",
        "\n",
        "    def fit(self, X, y):\n",
        "        if self.use_PCA:\n",
        "            X = self.pca.fit_transform(X)\n",
        "\n",
        "        self.feature_creator.fit(X)\n",
        "        X_new = self.feature_creator.transform(X)\n",
        "        self.classifier.fit(X_new, y)\n",
        "        return self\n",
        "\n",
        "    def predict_proba(self, X):\n",
        "        if self.use_PCA:\n",
        "            X = self.pca.transform(X)\n",
        "\n",
        "        X_new = self.feature_creator.transform(X)\n",
        "        return self.classifier.predict_proba(X_new)\n",
        "\n",
        "    def predict(self, X):\n",
        "        if self.use_PCA:\n",
        "            X = self.pca.transform(X)\n",
        "\n",
        "        X_new = self.feature_creator.transform(X)\n",
        "        return self.classifier.predict(X_new)"
      ],
      "metadata": {
        "id": "_irSqvtpxWzc"
      },
      "execution_count": 73,
      "outputs": []
    },
    {
      "cell_type": "markdown",
      "source": [
        "**Гиперпараметры по умолчанию:**"
      ],
      "metadata": {
        "id": "aXE_38G4N9rB"
      }
    },
    {
      "cell_type": "code",
      "source": [
        "pipeline = RFFPipeline(n_features=1000, new_dim=50, feature_creator_class=RandomFeatureCreator)\n",
        "pipeline.fit(x_train, y_train)\n",
        "y_pred = pipeline.predict(x_test)\n",
        "accuracy = sum(y_pred == y_test)/len(y_test)*100\n",
        "print(f'Доля верных ответов на тестовой выборке: {round(accuracy, 2)}%')"
      ],
      "metadata": {
        "colab": {
          "base_uri": "https://localhost:8080/"
        },
        "id": "BxI7H59YN74z",
        "outputId": "35ce20d6-9fa3-433e-b0fa-05ca79483433"
      },
      "execution_count": null,
      "outputs": [
        {
          "output_type": "stream",
          "name": "stdout",
          "text": [
            "Доля верных ответов на тестовой выборке: 85.83%\n"
          ]
        }
      ]
    },
    {
      "cell_type": "markdown",
      "source": [
        "**Другие значения n_features и new_dim:**"
      ],
      "metadata": {
        "id": "T13szeDHPhZy"
      }
    },
    {
      "cell_type": "code",
      "source": [
        "pipeline = RFFPipeline(n_features=100, new_dim=150, feature_creator_class=RandomFeatureCreator)\n",
        "pipeline.fit(x_train, y_train)\n",
        "y_pred = pipeline.predict(x_test)\n",
        "accuracy = sum(y_pred == y_test)/len(y_test)*100\n",
        "print(f'Доля верных ответов на тестовой выборке: {round(accuracy, 2)}%')"
      ],
      "metadata": {
        "colab": {
          "base_uri": "https://localhost:8080/"
        },
        "id": "jZNZZjcJQHLe",
        "outputId": "c44def87-09bb-47f2-fa47-5a232c2587e7"
      },
      "execution_count": null,
      "outputs": [
        {
          "output_type": "stream",
          "name": "stdout",
          "text": [
            "Доля верных ответов на тестовой выборке: 82.55%\n"
          ]
        }
      ]
    },
    {
      "cell_type": "markdown",
      "source": [
        "**Без предварительного понижения размерности с помощью МГК:**"
      ],
      "metadata": {
        "id": "rCJdQS0BQM7s"
      }
    },
    {
      "cell_type": "code",
      "source": [
        "pipeline = RFFPipeline(n_features=1000, new_dim=100, feature_creator_class=RandomFeatureCreator, use_PCA=False)\n",
        "pipeline.fit(x_train, y_train)\n",
        "y_pred = pipeline.predict(x_test)\n",
        "accuracy = sum(y_pred == y_test)/len(y_test)*100\n",
        "print(f'Доля верных ответов на тестовой выборке: {round(accuracy, 2)}%')"
      ],
      "metadata": {
        "colab": {
          "base_uri": "https://localhost:8080/"
        },
        "id": "a7A932QNQgjG",
        "outputId": "f0a49471-1321-40b1-afc7-2ae966711d97"
      },
      "execution_count": null,
      "outputs": [
        {
          "output_type": "stream",
          "name": "stdout",
          "text": [
            "Доля верных ответов на тестовой выборке: 11.12%\n"
          ]
        }
      ]
    },
    {
      "cell_type": "markdown",
      "source": [
        "**Другой тип линейной модели:**"
      ],
      "metadata": {
        "id": "eIMADXh5QseT"
      }
    },
    {
      "cell_type": "code",
      "source": [
        "pipeline = RFFPipeline(n_features=1000, new_dim=50, feature_creator_class=RandomFeatureCreator, classifier_class=LinearSVC)\n",
        "pipeline.fit(x_train, y_train)\n",
        "y_pred = pipeline.predict(x_test)\n",
        "accuracy = sum(y_pred == y_test)/len(y_test)*100\n",
        "print(f'Доля верных ответов на тестовой выборке: {round(accuracy, 2)}%')"
      ],
      "metadata": {
        "colab": {
          "base_uri": "https://localhost:8080/"
        },
        "id": "YksoZUcmQsCz",
        "outputId": "af5a4564-ce01-4fd7-c0c9-759593c46f4e"
      },
      "execution_count": null,
      "outputs": [
        {
          "output_type": "stream",
          "name": "stdout",
          "text": [
            "Доля верных ответов на тестовой выборке: 87.74%\n"
          ]
        }
      ]
    },
    {
      "cell_type": "markdown",
      "metadata": {
        "id": "HYqQUEi-K-hU"
      },
      "source": [
        "__Задание 2. (2.5 балла)__\n",
        "\n",
        "Сравните подход со случайными признаками с обучением SVM на исходных признаках. Попробуйте вариант с обычным (линейным) SVM и с ядровым SVM. Ядровой SVM может очень долго обучаться, поэтому можно делать любые разумные вещи для ускорения: брать подмножество объектов из обучающей выборки, например.\n",
        "\n",
        "Сравните подход со случайными признаками с вариантом, в котором вы понижаете размерность с помощью PCA и обучите градиентный бустинг. Используйте одну из реализаций CatBoost/LightGBM/XGBoost.\n",
        "\n",
        "Сделайте выводы — насколько идея со случайными признаками работает? Сравните как с точки зрения качества, так и с точки зрения скорости обучения и применения."
      ]
    },
    {
      "cell_type": "markdown",
      "source": [
        "**Подход со случайными признаками:**"
      ],
      "metadata": {
        "id": "Zvu25tsdSy6G"
      }
    },
    {
      "cell_type": "markdown",
      "source": [
        "*Логистическая регрессия:*"
      ],
      "metadata": {
        "id": "L0c-jL2SXbin"
      }
    },
    {
      "cell_type": "code",
      "source": [
        "import time\n",
        "\n",
        "pipeline = RFFPipeline(n_features=1000, new_dim=50, feature_creator_class=RandomFeatureCreator)\n",
        "\n",
        "start_time = time.time()\n",
        "pipeline.fit(x_train, y_train)\n",
        "training_time = time.time() - start_time\n",
        "\n",
        "start_time = time.time()\n",
        "y_pred = pipeline.predict(x_test)\n",
        "prediction_time = time.time() - start_time\n",
        "\n",
        "accuracy = sum(y_pred == y_test)/len(y_test)*100\n",
        "print(f'Доля верных ответов на тестовой выборке: {round(accuracy, 2)}%')\n",
        "print(f'Время обучения: {round(training_time, 2)} сек')\n",
        "print(f'Время применения: {round(prediction_time, 2)} сек')"
      ],
      "metadata": {
        "colab": {
          "base_uri": "https://localhost:8080/"
        },
        "id": "hqXGvqSNS9QE",
        "outputId": "d12582aa-e0fc-4b2a-e6ce-34a7d1cab971"
      },
      "execution_count": null,
      "outputs": [
        {
          "output_type": "stream",
          "name": "stdout",
          "text": [
            "Доля верных ответов на тестовой выборке: 85.89%\n",
            "Время обучения: 59.79 сек\n",
            "Время применения: 0.49 сек\n"
          ]
        }
      ]
    },
    {
      "cell_type": "markdown",
      "source": [
        "*Линейный SVM:*"
      ],
      "metadata": {
        "id": "JWLMUNALXkAe"
      }
    },
    {
      "cell_type": "code",
      "source": [
        "pipeline = RFFPipeline(n_features=1000, new_dim=50, feature_creator_class=RandomFeatureCreator, classifier_class=LinearSVC)\n",
        "\n",
        "start_time = time.time()\n",
        "pipeline.fit(x_train, y_train)\n",
        "training_time = time.time() - start_time\n",
        "\n",
        "start_time = time.time()\n",
        "y_pred = pipeline.predict(x_test)\n",
        "prediction_time = time.time() - start_time\n",
        "\n",
        "accuracy = sum(y_pred == y_test)/len(y_test)*100\n",
        "print(f'Доля верных ответов на тестовой выборке: {round(accuracy, 2)}%')\n",
        "print(f'Время обучения: {round(training_time, 2)} сек')\n",
        "print(f'Время применения: {round(prediction_time, 2)} сек')"
      ],
      "metadata": {
        "colab": {
          "base_uri": "https://localhost:8080/"
        },
        "id": "z3HqvzS1X0p2",
        "outputId": "22960035-730e-400c-9763-5c6c40ad59e8"
      },
      "execution_count": null,
      "outputs": [
        {
          "output_type": "stream",
          "name": "stdout",
          "text": [
            "Доля верных ответов на тестовой выборке: 87.74%\n",
            "Время обучения: 515.0 сек\n",
            "Время применения: 0.45 сек\n"
          ]
        }
      ]
    },
    {
      "cell_type": "markdown",
      "source": [
        "**Линейный SVM на исходных признаках:**"
      ],
      "metadata": {
        "id": "B9lPn5m8TRL5"
      }
    },
    {
      "cell_type": "code",
      "source": [
        "linear_svm = LinearSVC()\n",
        "\n",
        "start_time = time.time()\n",
        "linear_svm.fit(x_train, y_train)\n",
        "training_time = time.time() - start_time\n",
        "\n",
        "start_time = time.time()\n",
        "y_pred = linear_svm.predict(x_test)\n",
        "prediction_time = time.time() - start_time\n",
        "\n",
        "accuracy = sum(y_pred == y_test)/len(y_test)*100\n",
        "print(f'Доля верных ответов на тестовой выборке: {round(accuracy, 2)}%')\n",
        "print(f'Время обучения: {round(training_time, 2)} сек')\n",
        "print(f'Время применения: {round(prediction_time, 2)} сек')"
      ],
      "metadata": {
        "colab": {
          "base_uri": "https://localhost:8080/"
        },
        "id": "zO-D3twBTZD8",
        "outputId": "aaa55633-84ce-4c44-d6ff-90cde4129bd3"
      },
      "execution_count": null,
      "outputs": [
        {
          "output_type": "stream",
          "name": "stdout",
          "text": [
            "Доля верных ответов на тестовой выборке, 83.78%\n",
            "Время обучения, 2487.8 сек\n",
            "Время применения, 0.05 сек\n"
          ]
        }
      ]
    },
    {
      "cell_type": "markdown",
      "source": [
        "**Ядровой SVM на исходных признаках:**"
      ],
      "metadata": {
        "id": "4vnqgKwbUW_A"
      }
    },
    {
      "cell_type": "code",
      "source": [
        "kernel_svm = SVC(kernel='rbf')\n",
        "\n",
        "start_time = time.time()\n",
        "kernel_svm.fit(x_train, y_train)\n",
        "training_time = time.time() - start_time\n",
        "\n",
        "start_time = time.time()\n",
        "y_pred = kernel_svm.predict(x_test)\n",
        "prediction_time = time.time() - start_time\n",
        "\n",
        "accuracy = sum(y_pred == y_test)/len(y_test)*100\n",
        "print(f'Доля верных ответов на тестовой выборке: {round(accuracy, 2)}%')\n",
        "print(f'Время обучения: {round(training_time, 2)} сек')\n",
        "print(f'Время применения: {round(prediction_time, 2)} сек')"
      ],
      "metadata": {
        "colab": {
          "base_uri": "https://localhost:8080/"
        },
        "id": "sbbU8ffSVN85",
        "outputId": "46e19b4f-4f19-407f-ce0c-74e195e08dda"
      },
      "execution_count": null,
      "outputs": [
        {
          "output_type": "stream",
          "name": "stdout",
          "text": [
            "Доля верных ответов на тестовой выборке: 88.28%\n",
            "Время обучения: 395.1 сек\n",
            "Время применения: 199.67 сек\n"
          ]
        }
      ]
    },
    {
      "cell_type": "markdown",
      "source": [
        "**Понижение размерность с помощью PCA + градиентный бустинг:**"
      ],
      "metadata": {
        "id": "LDxUnKGDTtQF"
      }
    },
    {
      "cell_type": "code",
      "source": [
        "!pip install catboost"
      ],
      "metadata": {
        "colab": {
          "base_uri": "https://localhost:8080/"
        },
        "id": "hxky8CVnT3Fu",
        "outputId": "9bced88d-ec6a-49c8-8a59-415e00439dbd"
      },
      "execution_count": null,
      "outputs": [
        {
          "output_type": "stream",
          "name": "stdout",
          "text": [
            "Collecting catboost\n",
            "  Downloading catboost-1.2.7-cp311-cp311-manylinux2014_x86_64.whl.metadata (1.2 kB)\n",
            "Requirement already satisfied: graphviz in /usr/local/lib/python3.11/dist-packages (from catboost) (0.20.3)\n",
            "Requirement already satisfied: matplotlib in /usr/local/lib/python3.11/dist-packages (from catboost) (3.10.0)\n",
            "Requirement already satisfied: numpy<2.0,>=1.16.0 in /usr/local/lib/python3.11/dist-packages (from catboost) (1.26.4)\n",
            "Requirement already satisfied: pandas>=0.24 in /usr/local/lib/python3.11/dist-packages (from catboost) (2.2.2)\n",
            "Requirement already satisfied: scipy in /usr/local/lib/python3.11/dist-packages (from catboost) (1.13.1)\n",
            "Requirement already satisfied: plotly in /usr/local/lib/python3.11/dist-packages (from catboost) (5.24.1)\n",
            "Requirement already satisfied: six in /usr/local/lib/python3.11/dist-packages (from catboost) (1.17.0)\n",
            "Requirement already satisfied: python-dateutil>=2.8.2 in /usr/local/lib/python3.11/dist-packages (from pandas>=0.24->catboost) (2.8.2)\n",
            "Requirement already satisfied: pytz>=2020.1 in /usr/local/lib/python3.11/dist-packages (from pandas>=0.24->catboost) (2025.1)\n",
            "Requirement already satisfied: tzdata>=2022.7 in /usr/local/lib/python3.11/dist-packages (from pandas>=0.24->catboost) (2025.1)\n",
            "Requirement already satisfied: contourpy>=1.0.1 in /usr/local/lib/python3.11/dist-packages (from matplotlib->catboost) (1.3.1)\n",
            "Requirement already satisfied: cycler>=0.10 in /usr/local/lib/python3.11/dist-packages (from matplotlib->catboost) (0.12.1)\n",
            "Requirement already satisfied: fonttools>=4.22.0 in /usr/local/lib/python3.11/dist-packages (from matplotlib->catboost) (4.56.0)\n",
            "Requirement already satisfied: kiwisolver>=1.3.1 in /usr/local/lib/python3.11/dist-packages (from matplotlib->catboost) (1.4.8)\n",
            "Requirement already satisfied: packaging>=20.0 in /usr/local/lib/python3.11/dist-packages (from matplotlib->catboost) (24.2)\n",
            "Requirement already satisfied: pillow>=8 in /usr/local/lib/python3.11/dist-packages (from matplotlib->catboost) (11.1.0)\n",
            "Requirement already satisfied: pyparsing>=2.3.1 in /usr/local/lib/python3.11/dist-packages (from matplotlib->catboost) (3.2.1)\n",
            "Requirement already satisfied: tenacity>=6.2.0 in /usr/local/lib/python3.11/dist-packages (from plotly->catboost) (9.0.0)\n",
            "Downloading catboost-1.2.7-cp311-cp311-manylinux2014_x86_64.whl (98.7 MB)\n",
            "\u001b[2K   \u001b[90m━━━━━━━━━━━━━━━━━━━━━━━━━━━━━━━━━━━━━━━━\u001b[0m \u001b[32m98.7/98.7 MB\u001b[0m \u001b[31m5.4 MB/s\u001b[0m eta \u001b[36m0:00:00\u001b[0m\n",
            "\u001b[?25hInstalling collected packages: catboost\n",
            "Successfully installed catboost-1.2.7\n"
          ]
        }
      ]
    },
    {
      "cell_type": "code",
      "source": [
        "from catboost import CatBoostClassifier\n",
        "pca = PCA(n_components=50)\n",
        "x_train_pca = pca.fit_transform(x_train)\n",
        "x_test_pca = pca.transform(x_test)\n",
        "\n",
        "cat_boost = CatBoostClassifier()\n",
        "\n",
        "start_time = time.time()\n",
        "cat_boost.fit(x_train_pca, y_train)\n",
        "training_time = time.time() - start_time\n",
        "\n",
        "start_time = time.time()\n",
        "y_pred = cat_boost.predict(x_test_pca)\n",
        "prediction_time = time.time() - start_time\n",
        "\n",
        "accuracy = sum(y_pred.reshape(-1) == y_test)/len(y_test)*100\n",
        "print(f'Доля верных ответов на тестовой выборке: {round(accuracy, 2)}%')\n",
        "print(f'Время обучения: {round(training_time, 2)} сек')\n",
        "print(f'Время применения: {round(prediction_time, 2)} сек')"
      ],
      "metadata": {
        "colab": {
          "base_uri": "https://localhost:8080/"
        },
        "id": "VTIlmWYcT6EF",
        "outputId": "6cf2c204-a627-402a-9b85-9951a2bea4b0"
      },
      "execution_count": null,
      "outputs": [
        {
          "output_type": "stream",
          "name": "stdout",
          "text": [
            "Learning rate set to 0.097501\n",
            "0:\tlearn: 1.9693998\ttotal: 117ms\tremaining: 1m 56s\n",
            "1:\tlearn: 1.7634667\ttotal: 259ms\tremaining: 2m 9s\n",
            "2:\tlearn: 1.6184263\ttotal: 384ms\tremaining: 2m 7s\n",
            "3:\tlearn: 1.5008601\ttotal: 514ms\tremaining: 2m 7s\n",
            "4:\tlearn: 1.4062604\ttotal: 625ms\tremaining: 2m 4s\n",
            "5:\tlearn: 1.3284877\ttotal: 731ms\tremaining: 2m 1s\n",
            "6:\tlearn: 1.2621717\ttotal: 839ms\tremaining: 1m 59s\n",
            "7:\tlearn: 1.2070214\ttotal: 944ms\tremaining: 1m 57s\n",
            "8:\tlearn: 1.1516224\ttotal: 1.05s\tremaining: 1m 55s\n",
            "9:\tlearn: 1.1044716\ttotal: 1.16s\tremaining: 1m 54s\n",
            "10:\tlearn: 1.0622960\ttotal: 1.26s\tremaining: 1m 53s\n",
            "11:\tlearn: 1.0269883\ttotal: 1.37s\tremaining: 1m 52s\n",
            "12:\tlearn: 0.9924825\ttotal: 1.47s\tremaining: 1m 51s\n",
            "13:\tlearn: 0.9596879\ttotal: 1.58s\tremaining: 1m 51s\n",
            "14:\tlearn: 0.9370995\ttotal: 1.68s\tremaining: 1m 50s\n",
            "15:\tlearn: 0.9138386\ttotal: 1.79s\tremaining: 1m 49s\n",
            "16:\tlearn: 0.8925430\ttotal: 1.89s\tremaining: 1m 49s\n",
            "17:\tlearn: 0.8706896\ttotal: 2s\tremaining: 1m 48s\n",
            "18:\tlearn: 0.8502894\ttotal: 2.1s\tremaining: 1m 48s\n",
            "19:\tlearn: 0.8300712\ttotal: 2.21s\tremaining: 1m 48s\n",
            "20:\tlearn: 0.8124494\ttotal: 2.31s\tremaining: 1m 47s\n",
            "21:\tlearn: 0.7986251\ttotal: 2.45s\tremaining: 1m 48s\n",
            "22:\tlearn: 0.7827732\ttotal: 2.59s\tremaining: 1m 49s\n",
            "23:\tlearn: 0.7705105\ttotal: 2.74s\tremaining: 1m 51s\n",
            "24:\tlearn: 0.7540782\ttotal: 2.87s\tremaining: 1m 51s\n",
            "25:\tlearn: 0.7398404\ttotal: 3.04s\tremaining: 1m 53s\n",
            "26:\tlearn: 0.7298270\ttotal: 3.17s\tremaining: 1m 54s\n",
            "27:\tlearn: 0.7172189\ttotal: 3.29s\tremaining: 1m 54s\n",
            "28:\tlearn: 0.7065770\ttotal: 3.44s\tremaining: 1m 55s\n",
            "29:\tlearn: 0.6941812\ttotal: 3.57s\tremaining: 1m 55s\n",
            "30:\tlearn: 0.6829650\ttotal: 3.69s\tremaining: 1m 55s\n",
            "31:\tlearn: 0.6728960\ttotal: 3.81s\tremaining: 1m 55s\n",
            "32:\tlearn: 0.6631307\ttotal: 3.91s\tremaining: 1m 54s\n",
            "33:\tlearn: 0.6548223\ttotal: 4.02s\tremaining: 1m 54s\n",
            "34:\tlearn: 0.6459004\ttotal: 4.12s\tremaining: 1m 53s\n",
            "35:\tlearn: 0.6371130\ttotal: 4.23s\tremaining: 1m 53s\n",
            "36:\tlearn: 0.6315755\ttotal: 4.33s\tremaining: 1m 52s\n",
            "37:\tlearn: 0.6249134\ttotal: 4.44s\tremaining: 1m 52s\n",
            "38:\tlearn: 0.6187918\ttotal: 4.54s\tremaining: 1m 52s\n",
            "39:\tlearn: 0.6129472\ttotal: 4.65s\tremaining: 1m 51s\n",
            "40:\tlearn: 0.6061588\ttotal: 4.76s\tremaining: 1m 51s\n",
            "41:\tlearn: 0.6006540\ttotal: 4.87s\tremaining: 1m 50s\n",
            "42:\tlearn: 0.5946557\ttotal: 4.97s\tremaining: 1m 50s\n",
            "43:\tlearn: 0.5884972\ttotal: 5.08s\tremaining: 1m 50s\n",
            "44:\tlearn: 0.5831294\ttotal: 5.19s\tremaining: 1m 50s\n",
            "45:\tlearn: 0.5777633\ttotal: 5.3s\tremaining: 1m 49s\n",
            "46:\tlearn: 0.5736311\ttotal: 5.41s\tremaining: 1m 49s\n",
            "47:\tlearn: 0.5677786\ttotal: 5.51s\tremaining: 1m 49s\n",
            "48:\tlearn: 0.5627882\ttotal: 5.62s\tremaining: 1m 49s\n",
            "49:\tlearn: 0.5589141\ttotal: 5.73s\tremaining: 1m 48s\n",
            "50:\tlearn: 0.5542514\ttotal: 5.84s\tremaining: 1m 48s\n",
            "51:\tlearn: 0.5502325\ttotal: 5.96s\tremaining: 1m 48s\n",
            "52:\tlearn: 0.5457739\ttotal: 6.07s\tremaining: 1m 48s\n",
            "53:\tlearn: 0.5416190\ttotal: 6.18s\tremaining: 1m 48s\n",
            "54:\tlearn: 0.5377804\ttotal: 6.29s\tremaining: 1m 48s\n",
            "55:\tlearn: 0.5344242\ttotal: 6.4s\tremaining: 1m 47s\n",
            "56:\tlearn: 0.5302505\ttotal: 6.51s\tremaining: 1m 47s\n",
            "57:\tlearn: 0.5262712\ttotal: 6.62s\tremaining: 1m 47s\n",
            "58:\tlearn: 0.5233990\ttotal: 6.73s\tremaining: 1m 47s\n",
            "59:\tlearn: 0.5203599\ttotal: 6.84s\tremaining: 1m 47s\n",
            "60:\tlearn: 0.5165587\ttotal: 6.95s\tremaining: 1m 47s\n",
            "61:\tlearn: 0.5133726\ttotal: 7.06s\tremaining: 1m 46s\n",
            "62:\tlearn: 0.5099900\ttotal: 7.17s\tremaining: 1m 46s\n",
            "63:\tlearn: 0.5072789\ttotal: 7.28s\tremaining: 1m 46s\n",
            "64:\tlearn: 0.5050086\ttotal: 7.39s\tremaining: 1m 46s\n",
            "65:\tlearn: 0.5022644\ttotal: 7.5s\tremaining: 1m 46s\n",
            "66:\tlearn: 0.4996165\ttotal: 7.61s\tremaining: 1m 45s\n",
            "67:\tlearn: 0.4973189\ttotal: 7.72s\tremaining: 1m 45s\n",
            "68:\tlearn: 0.4950809\ttotal: 7.82s\tremaining: 1m 45s\n",
            "69:\tlearn: 0.4911562\ttotal: 7.93s\tremaining: 1m 45s\n",
            "70:\tlearn: 0.4886056\ttotal: 8.04s\tremaining: 1m 45s\n",
            "71:\tlearn: 0.4858703\ttotal: 8.15s\tremaining: 1m 44s\n",
            "72:\tlearn: 0.4840553\ttotal: 8.25s\tremaining: 1m 44s\n",
            "73:\tlearn: 0.4819987\ttotal: 8.36s\tremaining: 1m 44s\n",
            "74:\tlearn: 0.4798157\ttotal: 8.47s\tremaining: 1m 44s\n",
            "75:\tlearn: 0.4773890\ttotal: 8.57s\tremaining: 1m 44s\n",
            "76:\tlearn: 0.4750566\ttotal: 8.68s\tremaining: 1m 44s\n",
            "77:\tlearn: 0.4726369\ttotal: 8.79s\tremaining: 1m 43s\n",
            "78:\tlearn: 0.4702291\ttotal: 8.89s\tremaining: 1m 43s\n",
            "79:\tlearn: 0.4683240\ttotal: 9s\tremaining: 1m 43s\n",
            "80:\tlearn: 0.4662391\ttotal: 9.11s\tremaining: 1m 43s\n",
            "81:\tlearn: 0.4638060\ttotal: 9.21s\tremaining: 1m 43s\n",
            "82:\tlearn: 0.4612303\ttotal: 9.32s\tremaining: 1m 42s\n",
            "83:\tlearn: 0.4600268\ttotal: 9.43s\tremaining: 1m 42s\n",
            "84:\tlearn: 0.4580485\ttotal: 9.53s\tremaining: 1m 42s\n",
            "85:\tlearn: 0.4560061\ttotal: 9.64s\tremaining: 1m 42s\n",
            "86:\tlearn: 0.4539222\ttotal: 9.75s\tremaining: 1m 42s\n",
            "87:\tlearn: 0.4519913\ttotal: 9.87s\tremaining: 1m 42s\n",
            "88:\tlearn: 0.4505728\ttotal: 9.97s\tremaining: 1m 42s\n",
            "89:\tlearn: 0.4487537\ttotal: 10.1s\tremaining: 1m 41s\n",
            "90:\tlearn: 0.4473053\ttotal: 10.2s\tremaining: 1m 41s\n",
            "91:\tlearn: 0.4457731\ttotal: 10.3s\tremaining: 1m 41s\n",
            "92:\tlearn: 0.4436652\ttotal: 10.4s\tremaining: 1m 41s\n",
            "93:\tlearn: 0.4420087\ttotal: 10.5s\tremaining: 1m 41s\n",
            "94:\tlearn: 0.4403639\ttotal: 10.6s\tremaining: 1m 41s\n",
            "95:\tlearn: 0.4383612\ttotal: 10.7s\tremaining: 1m 41s\n",
            "96:\tlearn: 0.4370238\ttotal: 10.8s\tremaining: 1m 40s\n",
            "97:\tlearn: 0.4355342\ttotal: 10.9s\tremaining: 1m 40s\n",
            "98:\tlearn: 0.4340522\ttotal: 11s\tremaining: 1m 40s\n",
            "99:\tlearn: 0.4326057\ttotal: 11.1s\tremaining: 1m 40s\n",
            "100:\tlearn: 0.4312554\ttotal: 11.3s\tremaining: 1m 40s\n",
            "101:\tlearn: 0.4298063\ttotal: 11.4s\tremaining: 1m 40s\n",
            "102:\tlearn: 0.4282337\ttotal: 11.5s\tremaining: 1m 39s\n",
            "103:\tlearn: 0.4270731\ttotal: 11.6s\tremaining: 1m 39s\n",
            "104:\tlearn: 0.4262007\ttotal: 11.7s\tremaining: 1m 39s\n",
            "105:\tlearn: 0.4248216\ttotal: 11.8s\tremaining: 1m 39s\n",
            "106:\tlearn: 0.4233768\ttotal: 11.9s\tremaining: 1m 39s\n",
            "107:\tlearn: 0.4220121\ttotal: 12s\tremaining: 1m 39s\n",
            "108:\tlearn: 0.4205965\ttotal: 12.1s\tremaining: 1m 38s\n",
            "109:\tlearn: 0.4193878\ttotal: 12.2s\tremaining: 1m 38s\n",
            "110:\tlearn: 0.4178606\ttotal: 12.3s\tremaining: 1m 38s\n",
            "111:\tlearn: 0.4170398\ttotal: 12.4s\tremaining: 1m 38s\n",
            "112:\tlearn: 0.4158383\ttotal: 12.5s\tremaining: 1m 38s\n",
            "113:\tlearn: 0.4149291\ttotal: 12.6s\tremaining: 1m 38s\n",
            "114:\tlearn: 0.4138394\ttotal: 12.7s\tremaining: 1m 38s\n",
            "115:\tlearn: 0.4124640\ttotal: 12.8s\tremaining: 1m 37s\n",
            "116:\tlearn: 0.4113748\ttotal: 13s\tremaining: 1m 37s\n",
            "117:\tlearn: 0.4099024\ttotal: 13.1s\tremaining: 1m 37s\n",
            "118:\tlearn: 0.4086837\ttotal: 13.2s\tremaining: 1m 37s\n",
            "119:\tlearn: 0.4078522\ttotal: 13.3s\tremaining: 1m 37s\n",
            "120:\tlearn: 0.4067186\ttotal: 13.4s\tremaining: 1m 37s\n",
            "121:\tlearn: 0.4060114\ttotal: 13.5s\tremaining: 1m 37s\n",
            "122:\tlearn: 0.4047779\ttotal: 13.6s\tremaining: 1m 36s\n",
            "123:\tlearn: 0.4039854\ttotal: 13.7s\tremaining: 1m 36s\n",
            "124:\tlearn: 0.4032844\ttotal: 13.8s\tremaining: 1m 36s\n",
            "125:\tlearn: 0.4021304\ttotal: 13.9s\tremaining: 1m 36s\n",
            "126:\tlearn: 0.4014237\ttotal: 14s\tremaining: 1m 36s\n",
            "127:\tlearn: 0.4006424\ttotal: 14.1s\tremaining: 1m 36s\n",
            "128:\tlearn: 0.3999982\ttotal: 14.2s\tremaining: 1m 36s\n",
            "129:\tlearn: 0.3988003\ttotal: 14.3s\tremaining: 1m 35s\n",
            "130:\tlearn: 0.3983108\ttotal: 14.4s\tremaining: 1m 35s\n",
            "131:\tlearn: 0.3977928\ttotal: 14.5s\tremaining: 1m 35s\n",
            "132:\tlearn: 0.3972855\ttotal: 14.6s\tremaining: 1m 35s\n",
            "133:\tlearn: 0.3965713\ttotal: 14.8s\tremaining: 1m 35s\n",
            "134:\tlearn: 0.3954881\ttotal: 14.9s\tremaining: 1m 35s\n",
            "135:\tlearn: 0.3947617\ttotal: 15s\tremaining: 1m 35s\n",
            "136:\tlearn: 0.3938963\ttotal: 15.1s\tremaining: 1m 34s\n",
            "137:\tlearn: 0.3928927\ttotal: 15.2s\tremaining: 1m 34s\n",
            "138:\tlearn: 0.3923476\ttotal: 15.3s\tremaining: 1m 34s\n",
            "139:\tlearn: 0.3915788\ttotal: 15.4s\tremaining: 1m 34s\n",
            "140:\tlearn: 0.3907264\ttotal: 15.5s\tremaining: 1m 34s\n",
            "141:\tlearn: 0.3898158\ttotal: 15.6s\tremaining: 1m 34s\n",
            "142:\tlearn: 0.3891612\ttotal: 15.7s\tremaining: 1m 34s\n",
            "143:\tlearn: 0.3879909\ttotal: 15.8s\tremaining: 1m 34s\n",
            "144:\tlearn: 0.3874271\ttotal: 15.9s\tremaining: 1m 33s\n",
            "145:\tlearn: 0.3865804\ttotal: 16s\tremaining: 1m 33s\n",
            "146:\tlearn: 0.3860507\ttotal: 16.1s\tremaining: 1m 33s\n",
            "147:\tlearn: 0.3854170\ttotal: 16.3s\tremaining: 1m 33s\n",
            "148:\tlearn: 0.3844156\ttotal: 16.4s\tremaining: 1m 33s\n",
            "149:\tlearn: 0.3838870\ttotal: 16.5s\tremaining: 1m 33s\n",
            "150:\tlearn: 0.3830598\ttotal: 16.6s\tremaining: 1m 33s\n",
            "151:\tlearn: 0.3821567\ttotal: 16.7s\tremaining: 1m 33s\n",
            "152:\tlearn: 0.3812872\ttotal: 16.8s\tremaining: 1m 33s\n",
            "153:\tlearn: 0.3804273\ttotal: 16.9s\tremaining: 1m 32s\n",
            "154:\tlearn: 0.3797839\ttotal: 17s\tremaining: 1m 32s\n",
            "155:\tlearn: 0.3789339\ttotal: 17.1s\tremaining: 1m 32s\n",
            "156:\tlearn: 0.3783732\ttotal: 17.2s\tremaining: 1m 32s\n",
            "157:\tlearn: 0.3777316\ttotal: 17.4s\tremaining: 1m 32s\n",
            "158:\tlearn: 0.3770703\ttotal: 17.5s\tremaining: 1m 32s\n",
            "159:\tlearn: 0.3763881\ttotal: 17.6s\tremaining: 1m 32s\n",
            "160:\tlearn: 0.3760216\ttotal: 17.7s\tremaining: 1m 32s\n",
            "161:\tlearn: 0.3750207\ttotal: 17.8s\tremaining: 1m 32s\n",
            "162:\tlearn: 0.3742105\ttotal: 17.9s\tremaining: 1m 31s\n",
            "163:\tlearn: 0.3736043\ttotal: 18s\tremaining: 1m 31s\n",
            "164:\tlearn: 0.3729519\ttotal: 18.1s\tremaining: 1m 31s\n",
            "165:\tlearn: 0.3725202\ttotal: 18.2s\tremaining: 1m 31s\n",
            "166:\tlearn: 0.3718556\ttotal: 18.3s\tremaining: 1m 31s\n",
            "167:\tlearn: 0.3711726\ttotal: 18.4s\tremaining: 1m 31s\n",
            "168:\tlearn: 0.3705094\ttotal: 18.6s\tremaining: 1m 31s\n",
            "169:\tlearn: 0.3698719\ttotal: 18.7s\tremaining: 1m 31s\n",
            "170:\tlearn: 0.3694842\ttotal: 18.8s\tremaining: 1m 31s\n",
            "171:\tlearn: 0.3688398\ttotal: 18.9s\tremaining: 1m 30s\n",
            "172:\tlearn: 0.3682315\ttotal: 19s\tremaining: 1m 30s\n",
            "173:\tlearn: 0.3676515\ttotal: 19.1s\tremaining: 1m 30s\n",
            "174:\tlearn: 0.3669889\ttotal: 19.2s\tremaining: 1m 30s\n",
            "175:\tlearn: 0.3664463\ttotal: 19.3s\tremaining: 1m 30s\n",
            "176:\tlearn: 0.3657683\ttotal: 19.4s\tremaining: 1m 30s\n",
            "177:\tlearn: 0.3646901\ttotal: 19.5s\tremaining: 1m 30s\n",
            "178:\tlearn: 0.3641653\ttotal: 19.6s\tremaining: 1m 30s\n",
            "179:\tlearn: 0.3633276\ttotal: 19.7s\tremaining: 1m 29s\n",
            "180:\tlearn: 0.3626564\ttotal: 19.8s\tremaining: 1m 29s\n",
            "181:\tlearn: 0.3620697\ttotal: 19.9s\tremaining: 1m 29s\n",
            "182:\tlearn: 0.3616658\ttotal: 20s\tremaining: 1m 29s\n",
            "183:\tlearn: 0.3610209\ttotal: 20.2s\tremaining: 1m 29s\n",
            "184:\tlearn: 0.3603369\ttotal: 20.3s\tremaining: 1m 29s\n",
            "185:\tlearn: 0.3596887\ttotal: 20.4s\tremaining: 1m 29s\n",
            "186:\tlearn: 0.3590277\ttotal: 20.5s\tremaining: 1m 28s\n",
            "187:\tlearn: 0.3586973\ttotal: 20.6s\tremaining: 1m 28s\n",
            "188:\tlearn: 0.3583231\ttotal: 20.7s\tremaining: 1m 28s\n",
            "189:\tlearn: 0.3576610\ttotal: 20.8s\tremaining: 1m 28s\n",
            "190:\tlearn: 0.3572419\ttotal: 20.9s\tremaining: 1m 28s\n",
            "191:\tlearn: 0.3567886\ttotal: 21s\tremaining: 1m 28s\n",
            "192:\tlearn: 0.3563103\ttotal: 21.1s\tremaining: 1m 28s\n",
            "193:\tlearn: 0.3556366\ttotal: 21.2s\tremaining: 1m 28s\n",
            "194:\tlearn: 0.3552542\ttotal: 21.3s\tremaining: 1m 28s\n",
            "195:\tlearn: 0.3548725\ttotal: 21.4s\tremaining: 1m 27s\n",
            "196:\tlearn: 0.3543704\ttotal: 21.5s\tremaining: 1m 27s\n",
            "197:\tlearn: 0.3537344\ttotal: 21.6s\tremaining: 1m 27s\n",
            "198:\tlearn: 0.3528120\ttotal: 21.7s\tremaining: 1m 27s\n",
            "199:\tlearn: 0.3523433\ttotal: 21.8s\tremaining: 1m 27s\n",
            "200:\tlearn: 0.3516646\ttotal: 22s\tremaining: 1m 27s\n",
            "201:\tlearn: 0.3512012\ttotal: 22.1s\tremaining: 1m 27s\n",
            "202:\tlearn: 0.3508330\ttotal: 22.2s\tremaining: 1m 27s\n",
            "203:\tlearn: 0.3505761\ttotal: 22.3s\tremaining: 1m 26s\n",
            "204:\tlearn: 0.3500116\ttotal: 22.4s\tremaining: 1m 26s\n",
            "205:\tlearn: 0.3496876\ttotal: 22.5s\tremaining: 1m 26s\n",
            "206:\tlearn: 0.3490021\ttotal: 22.6s\tremaining: 1m 26s\n",
            "207:\tlearn: 0.3484681\ttotal: 22.7s\tremaining: 1m 26s\n",
            "208:\tlearn: 0.3477796\ttotal: 22.8s\tremaining: 1m 26s\n",
            "209:\tlearn: 0.3475079\ttotal: 22.9s\tremaining: 1m 26s\n",
            "210:\tlearn: 0.3469761\ttotal: 23s\tremaining: 1m 26s\n",
            "211:\tlearn: 0.3464477\ttotal: 23.1s\tremaining: 1m 25s\n",
            "212:\tlearn: 0.3458887\ttotal: 23.2s\tremaining: 1m 25s\n",
            "213:\tlearn: 0.3454153\ttotal: 23.3s\tremaining: 1m 25s\n",
            "214:\tlearn: 0.3449829\ttotal: 23.4s\tremaining: 1m 25s\n",
            "215:\tlearn: 0.3446731\ttotal: 23.5s\tremaining: 1m 25s\n",
            "216:\tlearn: 0.3439854\ttotal: 23.7s\tremaining: 1m 25s\n",
            "217:\tlearn: 0.3436170\ttotal: 23.8s\tremaining: 1m 25s\n",
            "218:\tlearn: 0.3431988\ttotal: 23.9s\tremaining: 1m 25s\n",
            "219:\tlearn: 0.3426638\ttotal: 24s\tremaining: 1m 24s\n",
            "220:\tlearn: 0.3422792\ttotal: 24.1s\tremaining: 1m 24s\n",
            "221:\tlearn: 0.3415206\ttotal: 24.2s\tremaining: 1m 24s\n",
            "222:\tlearn: 0.3408124\ttotal: 24.3s\tremaining: 1m 24s\n",
            "223:\tlearn: 0.3402500\ttotal: 24.4s\tremaining: 1m 24s\n",
            "224:\tlearn: 0.3398097\ttotal: 24.5s\tremaining: 1m 24s\n",
            "225:\tlearn: 0.3394527\ttotal: 24.6s\tremaining: 1m 24s\n",
            "226:\tlearn: 0.3390107\ttotal: 24.7s\tremaining: 1m 24s\n",
            "227:\tlearn: 0.3384876\ttotal: 24.8s\tremaining: 1m 24s\n",
            "228:\tlearn: 0.3379929\ttotal: 24.9s\tremaining: 1m 23s\n",
            "229:\tlearn: 0.3374748\ttotal: 25s\tremaining: 1m 23s\n",
            "230:\tlearn: 0.3370516\ttotal: 25.1s\tremaining: 1m 23s\n",
            "231:\tlearn: 0.3365625\ttotal: 25.2s\tremaining: 1m 23s\n",
            "232:\tlearn: 0.3357132\ttotal: 25.4s\tremaining: 1m 23s\n",
            "233:\tlearn: 0.3352952\ttotal: 25.5s\tremaining: 1m 23s\n",
            "234:\tlearn: 0.3348040\ttotal: 25.6s\tremaining: 1m 23s\n",
            "235:\tlearn: 0.3344562\ttotal: 25.7s\tremaining: 1m 23s\n",
            "236:\tlearn: 0.3339677\ttotal: 25.8s\tremaining: 1m 23s\n",
            "237:\tlearn: 0.3336830\ttotal: 25.9s\tremaining: 1m 22s\n",
            "238:\tlearn: 0.3332790\ttotal: 26s\tremaining: 1m 22s\n",
            "239:\tlearn: 0.3326708\ttotal: 26.1s\tremaining: 1m 22s\n",
            "240:\tlearn: 0.3323596\ttotal: 26.2s\tremaining: 1m 22s\n",
            "241:\tlearn: 0.3322096\ttotal: 26.3s\tremaining: 1m 22s\n",
            "242:\tlearn: 0.3318933\ttotal: 26.4s\tremaining: 1m 22s\n",
            "243:\tlearn: 0.3314949\ttotal: 26.5s\tremaining: 1m 22s\n",
            "244:\tlearn: 0.3312406\ttotal: 26.6s\tremaining: 1m 22s\n",
            "245:\tlearn: 0.3307470\ttotal: 26.7s\tremaining: 1m 21s\n",
            "246:\tlearn: 0.3300998\ttotal: 26.9s\tremaining: 1m 21s\n",
            "247:\tlearn: 0.3297703\ttotal: 27s\tremaining: 1m 21s\n",
            "248:\tlearn: 0.3292169\ttotal: 27.1s\tremaining: 1m 21s\n",
            "249:\tlearn: 0.3286255\ttotal: 27.2s\tremaining: 1m 21s\n",
            "250:\tlearn: 0.3281996\ttotal: 27.3s\tremaining: 1m 21s\n",
            "251:\tlearn: 0.3279099\ttotal: 27.4s\tremaining: 1m 21s\n",
            "252:\tlearn: 0.3276895\ttotal: 27.5s\tremaining: 1m 21s\n",
            "253:\tlearn: 0.3267990\ttotal: 27.6s\tremaining: 1m 21s\n",
            "254:\tlearn: 0.3264064\ttotal: 27.7s\tremaining: 1m 20s\n",
            "255:\tlearn: 0.3261383\ttotal: 27.8s\tremaining: 1m 20s\n",
            "256:\tlearn: 0.3257325\ttotal: 27.9s\tremaining: 1m 20s\n",
            "257:\tlearn: 0.3253235\ttotal: 28s\tremaining: 1m 20s\n",
            "258:\tlearn: 0.3247803\ttotal: 28.1s\tremaining: 1m 20s\n",
            "259:\tlearn: 0.3242382\ttotal: 28.2s\tremaining: 1m 20s\n",
            "260:\tlearn: 0.3238198\ttotal: 28.3s\tremaining: 1m 20s\n",
            "261:\tlearn: 0.3233977\ttotal: 28.4s\tremaining: 1m 20s\n",
            "262:\tlearn: 0.3227092\ttotal: 28.6s\tremaining: 1m 20s\n",
            "263:\tlearn: 0.3222630\ttotal: 28.7s\tremaining: 1m 19s\n",
            "264:\tlearn: 0.3219490\ttotal: 28.8s\tremaining: 1m 19s\n",
            "265:\tlearn: 0.3216861\ttotal: 28.9s\tremaining: 1m 19s\n",
            "266:\tlearn: 0.3214237\ttotal: 29s\tremaining: 1m 19s\n",
            "267:\tlearn: 0.3209205\ttotal: 29.1s\tremaining: 1m 19s\n",
            "268:\tlearn: 0.3206217\ttotal: 29.2s\tremaining: 1m 19s\n",
            "269:\tlearn: 0.3203898\ttotal: 29.3s\tremaining: 1m 19s\n",
            "270:\tlearn: 0.3201023\ttotal: 29.4s\tremaining: 1m 19s\n",
            "271:\tlearn: 0.3196369\ttotal: 29.5s\tremaining: 1m 19s\n",
            "272:\tlearn: 0.3189816\ttotal: 29.6s\tremaining: 1m 18s\n",
            "273:\tlearn: 0.3186851\ttotal: 29.8s\tremaining: 1m 18s\n",
            "274:\tlearn: 0.3181785\ttotal: 29.9s\tremaining: 1m 18s\n",
            "275:\tlearn: 0.3177526\ttotal: 30s\tremaining: 1m 18s\n",
            "276:\tlearn: 0.3175342\ttotal: 30.1s\tremaining: 1m 18s\n",
            "277:\tlearn: 0.3171771\ttotal: 30.2s\tremaining: 1m 18s\n",
            "278:\tlearn: 0.3165280\ttotal: 30.3s\tremaining: 1m 18s\n",
            "279:\tlearn: 0.3163273\ttotal: 30.4s\tremaining: 1m 18s\n",
            "280:\tlearn: 0.3160526\ttotal: 30.5s\tremaining: 1m 18s\n",
            "281:\tlearn: 0.3156149\ttotal: 30.6s\tremaining: 1m 17s\n",
            "282:\tlearn: 0.3151066\ttotal: 30.7s\tremaining: 1m 17s\n",
            "283:\tlearn: 0.3146015\ttotal: 30.8s\tremaining: 1m 17s\n",
            "284:\tlearn: 0.3142521\ttotal: 30.9s\tremaining: 1m 17s\n",
            "285:\tlearn: 0.3139081\ttotal: 31s\tremaining: 1m 17s\n",
            "286:\tlearn: 0.3134529\ttotal: 31.1s\tremaining: 1m 17s\n",
            "287:\tlearn: 0.3130702\ttotal: 31.3s\tremaining: 1m 17s\n",
            "288:\tlearn: 0.3125467\ttotal: 31.4s\tremaining: 1m 17s\n",
            "289:\tlearn: 0.3123443\ttotal: 31.5s\tremaining: 1m 17s\n",
            "290:\tlearn: 0.3118369\ttotal: 31.6s\tremaining: 1m 16s\n",
            "291:\tlearn: 0.3114990\ttotal: 31.7s\tremaining: 1m 16s\n",
            "292:\tlearn: 0.3111876\ttotal: 31.8s\tremaining: 1m 16s\n",
            "293:\tlearn: 0.3109834\ttotal: 31.9s\tremaining: 1m 16s\n",
            "294:\tlearn: 0.3106213\ttotal: 32s\tremaining: 1m 16s\n",
            "295:\tlearn: 0.3103392\ttotal: 32.1s\tremaining: 1m 16s\n",
            "296:\tlearn: 0.3097857\ttotal: 32.2s\tremaining: 1m 16s\n",
            "297:\tlearn: 0.3095931\ttotal: 32.3s\tremaining: 1m 16s\n",
            "298:\tlearn: 0.3091661\ttotal: 32.4s\tremaining: 1m 15s\n",
            "299:\tlearn: 0.3088562\ttotal: 32.5s\tremaining: 1m 15s\n",
            "300:\tlearn: 0.3085879\ttotal: 32.6s\tremaining: 1m 15s\n",
            "301:\tlearn: 0.3082580\ttotal: 32.7s\tremaining: 1m 15s\n",
            "302:\tlearn: 0.3076548\ttotal: 32.8s\tremaining: 1m 15s\n",
            "303:\tlearn: 0.3074222\ttotal: 32.9s\tremaining: 1m 15s\n",
            "304:\tlearn: 0.3070668\ttotal: 33.1s\tremaining: 1m 15s\n",
            "305:\tlearn: 0.3066959\ttotal: 33.2s\tremaining: 1m 15s\n",
            "306:\tlearn: 0.3064017\ttotal: 33.3s\tremaining: 1m 15s\n",
            "307:\tlearn: 0.3059671\ttotal: 33.4s\tremaining: 1m 14s\n",
            "308:\tlearn: 0.3055474\ttotal: 33.5s\tremaining: 1m 14s\n",
            "309:\tlearn: 0.3053280\ttotal: 33.6s\tremaining: 1m 14s\n",
            "310:\tlearn: 0.3051193\ttotal: 33.7s\tremaining: 1m 14s\n",
            "311:\tlearn: 0.3049225\ttotal: 33.8s\tremaining: 1m 14s\n",
            "312:\tlearn: 0.3046360\ttotal: 33.9s\tremaining: 1m 14s\n",
            "313:\tlearn: 0.3044163\ttotal: 34s\tremaining: 1m 14s\n",
            "314:\tlearn: 0.3040844\ttotal: 34.1s\tremaining: 1m 14s\n",
            "315:\tlearn: 0.3039045\ttotal: 34.2s\tremaining: 1m 14s\n",
            "316:\tlearn: 0.3036950\ttotal: 34.3s\tremaining: 1m 13s\n",
            "317:\tlearn: 0.3033700\ttotal: 34.4s\tremaining: 1m 13s\n",
            "318:\tlearn: 0.3031211\ttotal: 34.5s\tremaining: 1m 13s\n",
            "319:\tlearn: 0.3028253\ttotal: 34.6s\tremaining: 1m 13s\n",
            "320:\tlearn: 0.3026252\ttotal: 34.7s\tremaining: 1m 13s\n",
            "321:\tlearn: 0.3022012\ttotal: 34.9s\tremaining: 1m 13s\n",
            "322:\tlearn: 0.3019831\ttotal: 35s\tremaining: 1m 13s\n",
            "323:\tlearn: 0.3016122\ttotal: 35.1s\tremaining: 1m 13s\n",
            "324:\tlearn: 0.3014171\ttotal: 35.2s\tremaining: 1m 13s\n",
            "325:\tlearn: 0.3011809\ttotal: 35.3s\tremaining: 1m 12s\n",
            "326:\tlearn: 0.3009450\ttotal: 35.4s\tremaining: 1m 12s\n",
            "327:\tlearn: 0.3007455\ttotal: 35.5s\tremaining: 1m 12s\n",
            "328:\tlearn: 0.3004194\ttotal: 35.6s\tremaining: 1m 12s\n",
            "329:\tlearn: 0.3001223\ttotal: 35.7s\tremaining: 1m 12s\n",
            "330:\tlearn: 0.2997771\ttotal: 35.8s\tremaining: 1m 12s\n",
            "331:\tlearn: 0.2995896\ttotal: 35.9s\tremaining: 1m 12s\n",
            "332:\tlearn: 0.2991992\ttotal: 36s\tremaining: 1m 12s\n",
            "333:\tlearn: 0.2988728\ttotal: 36.1s\tremaining: 1m 12s\n",
            "334:\tlearn: 0.2986723\ttotal: 36.2s\tremaining: 1m 11s\n",
            "335:\tlearn: 0.2984863\ttotal: 36.3s\tremaining: 1m 11s\n",
            "336:\tlearn: 0.2981398\ttotal: 36.5s\tremaining: 1m 11s\n",
            "337:\tlearn: 0.2978802\ttotal: 36.6s\tremaining: 1m 11s\n",
            "338:\tlearn: 0.2976809\ttotal: 36.7s\tremaining: 1m 11s\n",
            "339:\tlearn: 0.2971616\ttotal: 36.8s\tremaining: 1m 11s\n",
            "340:\tlearn: 0.2967865\ttotal: 36.9s\tremaining: 1m 11s\n",
            "341:\tlearn: 0.2964910\ttotal: 37s\tremaining: 1m 11s\n",
            "342:\tlearn: 0.2960854\ttotal: 37.1s\tremaining: 1m 11s\n",
            "343:\tlearn: 0.2958308\ttotal: 37.2s\tremaining: 1m 10s\n",
            "344:\tlearn: 0.2955557\ttotal: 37.3s\tremaining: 1m 10s\n",
            "345:\tlearn: 0.2952123\ttotal: 37.4s\tremaining: 1m 10s\n",
            "346:\tlearn: 0.2950040\ttotal: 37.5s\tremaining: 1m 10s\n",
            "347:\tlearn: 0.2947025\ttotal: 37.6s\tremaining: 1m 10s\n",
            "348:\tlearn: 0.2944893\ttotal: 37.7s\tremaining: 1m 10s\n",
            "349:\tlearn: 0.2943094\ttotal: 37.8s\tremaining: 1m 10s\n",
            "350:\tlearn: 0.2940136\ttotal: 38s\tremaining: 1m 10s\n",
            "351:\tlearn: 0.2937583\ttotal: 38.1s\tremaining: 1m 10s\n",
            "352:\tlearn: 0.2934265\ttotal: 38.2s\tremaining: 1m 9s\n",
            "353:\tlearn: 0.2931828\ttotal: 38.3s\tremaining: 1m 9s\n",
            "354:\tlearn: 0.2929839\ttotal: 38.4s\tremaining: 1m 9s\n",
            "355:\tlearn: 0.2926451\ttotal: 38.5s\tremaining: 1m 9s\n",
            "356:\tlearn: 0.2924259\ttotal: 38.6s\tremaining: 1m 9s\n",
            "357:\tlearn: 0.2923046\ttotal: 38.7s\tremaining: 1m 9s\n",
            "358:\tlearn: 0.2920767\ttotal: 38.8s\tremaining: 1m 9s\n",
            "359:\tlearn: 0.2917810\ttotal: 38.9s\tremaining: 1m 9s\n",
            "360:\tlearn: 0.2914309\ttotal: 39s\tremaining: 1m 9s\n",
            "361:\tlearn: 0.2912458\ttotal: 39.1s\tremaining: 1m 8s\n",
            "362:\tlearn: 0.2910014\ttotal: 39.2s\tremaining: 1m 8s\n",
            "363:\tlearn: 0.2908011\ttotal: 39.3s\tremaining: 1m 8s\n",
            "364:\tlearn: 0.2904205\ttotal: 39.4s\tremaining: 1m 8s\n",
            "365:\tlearn: 0.2900497\ttotal: 39.6s\tremaining: 1m 8s\n",
            "366:\tlearn: 0.2898857\ttotal: 39.7s\tremaining: 1m 8s\n",
            "367:\tlearn: 0.2897396\ttotal: 39.8s\tremaining: 1m 8s\n",
            "368:\tlearn: 0.2894451\ttotal: 39.9s\tremaining: 1m 8s\n",
            "369:\tlearn: 0.2893606\ttotal: 40s\tremaining: 1m 8s\n",
            "370:\tlearn: 0.2889998\ttotal: 40.1s\tremaining: 1m 7s\n",
            "371:\tlearn: 0.2888517\ttotal: 40.2s\tremaining: 1m 7s\n",
            "372:\tlearn: 0.2886676\ttotal: 40.3s\tremaining: 1m 7s\n",
            "373:\tlearn: 0.2884933\ttotal: 40.4s\tremaining: 1m 7s\n",
            "374:\tlearn: 0.2880739\ttotal: 40.5s\tremaining: 1m 7s\n",
            "375:\tlearn: 0.2875460\ttotal: 40.6s\tremaining: 1m 7s\n",
            "376:\tlearn: 0.2872913\ttotal: 40.8s\tremaining: 1m 7s\n",
            "377:\tlearn: 0.2869566\ttotal: 40.9s\tremaining: 1m 7s\n",
            "378:\tlearn: 0.2867935\ttotal: 41s\tremaining: 1m 7s\n",
            "379:\tlearn: 0.2866567\ttotal: 41.1s\tremaining: 1m 7s\n",
            "380:\tlearn: 0.2863267\ttotal: 41.2s\tremaining: 1m 6s\n",
            "381:\tlearn: 0.2861308\ttotal: 41.3s\tremaining: 1m 6s\n",
            "382:\tlearn: 0.2857995\ttotal: 41.4s\tremaining: 1m 6s\n",
            "383:\tlearn: 0.2855968\ttotal: 41.5s\tremaining: 1m 6s\n",
            "384:\tlearn: 0.2853706\ttotal: 41.6s\tremaining: 1m 6s\n",
            "385:\tlearn: 0.2852325\ttotal: 41.7s\tremaining: 1m 6s\n",
            "386:\tlearn: 0.2851580\ttotal: 41.8s\tremaining: 1m 6s\n",
            "387:\tlearn: 0.2848942\ttotal: 41.9s\tremaining: 1m 6s\n",
            "388:\tlearn: 0.2847908\ttotal: 42s\tremaining: 1m 6s\n",
            "389:\tlearn: 0.2846467\ttotal: 42.1s\tremaining: 1m 5s\n",
            "390:\tlearn: 0.2843457\ttotal: 42.3s\tremaining: 1m 5s\n",
            "391:\tlearn: 0.2841945\ttotal: 42.4s\tremaining: 1m 5s\n",
            "392:\tlearn: 0.2838337\ttotal: 42.5s\tremaining: 1m 5s\n",
            "393:\tlearn: 0.2836217\ttotal: 42.6s\tremaining: 1m 5s\n",
            "394:\tlearn: 0.2832186\ttotal: 42.7s\tremaining: 1m 5s\n",
            "395:\tlearn: 0.2829739\ttotal: 42.8s\tremaining: 1m 5s\n",
            "396:\tlearn: 0.2827057\ttotal: 42.9s\tremaining: 1m 5s\n",
            "397:\tlearn: 0.2824633\ttotal: 43s\tremaining: 1m 5s\n",
            "398:\tlearn: 0.2823320\ttotal: 43.1s\tremaining: 1m 4s\n",
            "399:\tlearn: 0.2821520\ttotal: 43.2s\tremaining: 1m 4s\n",
            "400:\tlearn: 0.2818767\ttotal: 43.3s\tremaining: 1m 4s\n",
            "401:\tlearn: 0.2817366\ttotal: 43.4s\tremaining: 1m 4s\n",
            "402:\tlearn: 0.2815209\ttotal: 43.5s\tremaining: 1m 4s\n",
            "403:\tlearn: 0.2812463\ttotal: 43.6s\tremaining: 1m 4s\n",
            "404:\tlearn: 0.2807875\ttotal: 43.7s\tremaining: 1m 4s\n",
            "405:\tlearn: 0.2803489\ttotal: 43.8s\tremaining: 1m 4s\n",
            "406:\tlearn: 0.2801032\ttotal: 44s\tremaining: 1m 4s\n",
            "407:\tlearn: 0.2799479\ttotal: 44.1s\tremaining: 1m 3s\n",
            "408:\tlearn: 0.2798740\ttotal: 44.2s\tremaining: 1m 3s\n",
            "409:\tlearn: 0.2794003\ttotal: 44.3s\tremaining: 1m 3s\n",
            "410:\tlearn: 0.2791607\ttotal: 44.4s\tremaining: 1m 3s\n",
            "411:\tlearn: 0.2789811\ttotal: 44.5s\tremaining: 1m 3s\n",
            "412:\tlearn: 0.2786193\ttotal: 44.6s\tremaining: 1m 3s\n",
            "413:\tlearn: 0.2784092\ttotal: 44.7s\tremaining: 1m 3s\n",
            "414:\tlearn: 0.2781343\ttotal: 44.8s\tremaining: 1m 3s\n",
            "415:\tlearn: 0.2778446\ttotal: 44.9s\tremaining: 1m 3s\n",
            "416:\tlearn: 0.2776728\ttotal: 45s\tremaining: 1m 2s\n",
            "417:\tlearn: 0.2774641\ttotal: 45.1s\tremaining: 1m 2s\n",
            "418:\tlearn: 0.2771553\ttotal: 45.2s\tremaining: 1m 2s\n",
            "419:\tlearn: 0.2766680\ttotal: 45.3s\tremaining: 1m 2s\n",
            "420:\tlearn: 0.2764148\ttotal: 45.4s\tremaining: 1m 2s\n",
            "421:\tlearn: 0.2761992\ttotal: 45.5s\tremaining: 1m 2s\n",
            "422:\tlearn: 0.2760212\ttotal: 45.7s\tremaining: 1m 2s\n",
            "423:\tlearn: 0.2757580\ttotal: 45.8s\tremaining: 1m 2s\n",
            "424:\tlearn: 0.2753751\ttotal: 45.9s\tremaining: 1m 2s\n",
            "425:\tlearn: 0.2752468\ttotal: 46s\tremaining: 1m 1s\n",
            "426:\tlearn: 0.2749377\ttotal: 46.1s\tremaining: 1m 1s\n",
            "427:\tlearn: 0.2746750\ttotal: 46.2s\tremaining: 1m 1s\n",
            "428:\tlearn: 0.2744096\ttotal: 46.3s\tremaining: 1m 1s\n",
            "429:\tlearn: 0.2742064\ttotal: 46.4s\tremaining: 1m 1s\n",
            "430:\tlearn: 0.2739543\ttotal: 46.5s\tremaining: 1m 1s\n",
            "431:\tlearn: 0.2737765\ttotal: 46.6s\tremaining: 1m 1s\n",
            "432:\tlearn: 0.2736530\ttotal: 46.7s\tremaining: 1m 1s\n",
            "433:\tlearn: 0.2735786\ttotal: 46.8s\tremaining: 1m 1s\n",
            "434:\tlearn: 0.2733464\ttotal: 46.9s\tremaining: 1m\n",
            "435:\tlearn: 0.2731557\ttotal: 47s\tremaining: 1m\n",
            "436:\tlearn: 0.2729093\ttotal: 47.1s\tremaining: 1m\n",
            "437:\tlearn: 0.2728141\ttotal: 47.2s\tremaining: 1m\n",
            "438:\tlearn: 0.2725735\ttotal: 47.4s\tremaining: 1m\n",
            "439:\tlearn: 0.2723172\ttotal: 47.5s\tremaining: 1m\n",
            "440:\tlearn: 0.2720535\ttotal: 47.6s\tremaining: 1m\n",
            "441:\tlearn: 0.2715285\ttotal: 47.7s\tremaining: 1m\n",
            "442:\tlearn: 0.2713104\ttotal: 47.8s\tremaining: 1m\n",
            "443:\tlearn: 0.2710726\ttotal: 47.9s\tremaining: 60s\n",
            "444:\tlearn: 0.2709461\ttotal: 48s\tremaining: 59.9s\n",
            "445:\tlearn: 0.2707311\ttotal: 48.1s\tremaining: 59.7s\n",
            "446:\tlearn: 0.2706218\ttotal: 48.2s\tremaining: 59.6s\n",
            "447:\tlearn: 0.2704747\ttotal: 48.3s\tremaining: 59.5s\n",
            "448:\tlearn: 0.2702779\ttotal: 48.4s\tremaining: 59.4s\n",
            "449:\tlearn: 0.2699123\ttotal: 48.5s\tremaining: 59.3s\n",
            "450:\tlearn: 0.2697123\ttotal: 48.6s\tremaining: 59.2s\n",
            "451:\tlearn: 0.2695154\ttotal: 48.7s\tremaining: 59.1s\n",
            "452:\tlearn: 0.2692307\ttotal: 48.8s\tremaining: 59s\n",
            "453:\tlearn: 0.2691207\ttotal: 48.9s\tremaining: 58.9s\n",
            "454:\tlearn: 0.2690366\ttotal: 49.1s\tremaining: 58.8s\n",
            "455:\tlearn: 0.2688722\ttotal: 49.2s\tremaining: 58.6s\n",
            "456:\tlearn: 0.2684978\ttotal: 49.3s\tremaining: 58.5s\n",
            "457:\tlearn: 0.2682568\ttotal: 49.4s\tremaining: 58.4s\n",
            "458:\tlearn: 0.2680702\ttotal: 49.5s\tremaining: 58.3s\n",
            "459:\tlearn: 0.2678625\ttotal: 49.6s\tremaining: 58.2s\n",
            "460:\tlearn: 0.2675525\ttotal: 49.7s\tremaining: 58.1s\n",
            "461:\tlearn: 0.2674188\ttotal: 49.8s\tremaining: 58s\n",
            "462:\tlearn: 0.2672996\ttotal: 49.9s\tremaining: 57.9s\n",
            "463:\tlearn: 0.2671455\ttotal: 50s\tremaining: 57.8s\n",
            "464:\tlearn: 0.2670285\ttotal: 50.1s\tremaining: 57.7s\n",
            "465:\tlearn: 0.2669025\ttotal: 50.2s\tremaining: 57.6s\n",
            "466:\tlearn: 0.2667522\ttotal: 50.3s\tremaining: 57.4s\n",
            "467:\tlearn: 0.2663276\ttotal: 50.4s\tremaining: 57.3s\n",
            "468:\tlearn: 0.2662336\ttotal: 50.5s\tremaining: 57.2s\n",
            "469:\tlearn: 0.2659940\ttotal: 50.7s\tremaining: 57.1s\n",
            "470:\tlearn: 0.2658027\ttotal: 50.8s\tremaining: 57s\n",
            "471:\tlearn: 0.2653928\ttotal: 50.9s\tremaining: 56.9s\n",
            "472:\tlearn: 0.2651528\ttotal: 51s\tremaining: 56.8s\n",
            "473:\tlearn: 0.2647499\ttotal: 51.1s\tremaining: 56.7s\n",
            "474:\tlearn: 0.2646347\ttotal: 51.2s\tremaining: 56.6s\n",
            "475:\tlearn: 0.2645372\ttotal: 51.3s\tremaining: 56.5s\n",
            "476:\tlearn: 0.2641992\ttotal: 51.4s\tremaining: 56.4s\n",
            "477:\tlearn: 0.2639591\ttotal: 51.5s\tremaining: 56.3s\n",
            "478:\tlearn: 0.2637983\ttotal: 51.6s\tremaining: 56.1s\n",
            "479:\tlearn: 0.2635091\ttotal: 51.7s\tremaining: 56s\n",
            "480:\tlearn: 0.2632768\ttotal: 51.8s\tremaining: 55.9s\n",
            "481:\tlearn: 0.2630995\ttotal: 52s\tremaining: 55.8s\n",
            "482:\tlearn: 0.2628888\ttotal: 52.1s\tremaining: 55.7s\n",
            "483:\tlearn: 0.2625771\ttotal: 52.2s\tremaining: 55.6s\n",
            "484:\tlearn: 0.2623628\ttotal: 52.3s\tremaining: 55.5s\n",
            "485:\tlearn: 0.2620758\ttotal: 52.4s\tremaining: 55.4s\n",
            "486:\tlearn: 0.2617681\ttotal: 52.5s\tremaining: 55.3s\n",
            "487:\tlearn: 0.2614569\ttotal: 52.6s\tremaining: 55.2s\n",
            "488:\tlearn: 0.2612653\ttotal: 52.7s\tremaining: 55.1s\n",
            "489:\tlearn: 0.2610243\ttotal: 52.8s\tremaining: 55s\n",
            "490:\tlearn: 0.2607317\ttotal: 52.9s\tremaining: 54.9s\n",
            "491:\tlearn: 0.2606007\ttotal: 53s\tremaining: 54.8s\n",
            "492:\tlearn: 0.2604786\ttotal: 53.1s\tremaining: 54.7s\n",
            "493:\tlearn: 0.2603245\ttotal: 53.3s\tremaining: 54.5s\n",
            "494:\tlearn: 0.2601934\ttotal: 53.4s\tremaining: 54.4s\n",
            "495:\tlearn: 0.2598122\ttotal: 53.5s\tremaining: 54.3s\n",
            "496:\tlearn: 0.2595047\ttotal: 53.6s\tremaining: 54.2s\n",
            "497:\tlearn: 0.2593001\ttotal: 53.7s\tremaining: 54.1s\n",
            "498:\tlearn: 0.2590713\ttotal: 53.8s\tremaining: 54s\n",
            "499:\tlearn: 0.2589963\ttotal: 53.9s\tremaining: 53.9s\n",
            "500:\tlearn: 0.2587758\ttotal: 54s\tremaining: 53.8s\n",
            "501:\tlearn: 0.2586382\ttotal: 54.1s\tremaining: 53.7s\n",
            "502:\tlearn: 0.2584099\ttotal: 54.2s\tremaining: 53.6s\n",
            "503:\tlearn: 0.2582060\ttotal: 54.3s\tremaining: 53.4s\n",
            "504:\tlearn: 0.2579947\ttotal: 54.4s\tremaining: 53.3s\n",
            "505:\tlearn: 0.2577186\ttotal: 54.5s\tremaining: 53.2s\n",
            "506:\tlearn: 0.2575347\ttotal: 54.6s\tremaining: 53.1s\n",
            "507:\tlearn: 0.2574054\ttotal: 54.7s\tremaining: 53s\n",
            "508:\tlearn: 0.2571088\ttotal: 54.8s\tremaining: 52.9s\n",
            "509:\tlearn: 0.2570310\ttotal: 54.9s\tremaining: 52.8s\n",
            "510:\tlearn: 0.2568922\ttotal: 55.1s\tremaining: 52.7s\n",
            "511:\tlearn: 0.2565687\ttotal: 55.2s\tremaining: 52.6s\n",
            "512:\tlearn: 0.2564490\ttotal: 55.3s\tremaining: 52.5s\n",
            "513:\tlearn: 0.2561030\ttotal: 55.4s\tremaining: 52.4s\n",
            "514:\tlearn: 0.2559412\ttotal: 55.5s\tremaining: 52.2s\n",
            "515:\tlearn: 0.2557527\ttotal: 55.6s\tremaining: 52.1s\n",
            "516:\tlearn: 0.2553552\ttotal: 55.7s\tremaining: 52s\n",
            "517:\tlearn: 0.2551368\ttotal: 55.8s\tremaining: 51.9s\n",
            "518:\tlearn: 0.2549546\ttotal: 55.9s\tremaining: 51.8s\n",
            "519:\tlearn: 0.2547898\ttotal: 56s\tremaining: 51.7s\n",
            "520:\tlearn: 0.2545776\ttotal: 56.1s\tremaining: 51.6s\n",
            "521:\tlearn: 0.2543246\ttotal: 56.2s\tremaining: 51.5s\n",
            "522:\tlearn: 0.2541890\ttotal: 56.3s\tremaining: 51.4s\n",
            "523:\tlearn: 0.2540122\ttotal: 56.4s\tremaining: 51.3s\n",
            "524:\tlearn: 0.2538738\ttotal: 56.5s\tremaining: 51.2s\n",
            "525:\tlearn: 0.2534138\ttotal: 56.6s\tremaining: 51s\n",
            "526:\tlearn: 0.2530913\ttotal: 56.8s\tremaining: 50.9s\n",
            "527:\tlearn: 0.2527654\ttotal: 56.9s\tremaining: 50.8s\n",
            "528:\tlearn: 0.2524761\ttotal: 57s\tremaining: 50.7s\n",
            "529:\tlearn: 0.2523300\ttotal: 57.1s\tremaining: 50.6s\n",
            "530:\tlearn: 0.2522176\ttotal: 57.2s\tremaining: 50.5s\n",
            "531:\tlearn: 0.2520944\ttotal: 57.3s\tremaining: 50.4s\n",
            "532:\tlearn: 0.2517892\ttotal: 57.4s\tremaining: 50.3s\n",
            "533:\tlearn: 0.2514181\ttotal: 57.5s\tremaining: 50.2s\n",
            "534:\tlearn: 0.2509448\ttotal: 57.6s\tremaining: 50.1s\n",
            "535:\tlearn: 0.2507060\ttotal: 57.7s\tremaining: 50s\n",
            "536:\tlearn: 0.2504343\ttotal: 57.8s\tremaining: 49.8s\n",
            "537:\tlearn: 0.2501851\ttotal: 57.9s\tremaining: 49.7s\n",
            "538:\tlearn: 0.2501231\ttotal: 58s\tremaining: 49.6s\n",
            "539:\tlearn: 0.2497829\ttotal: 58.1s\tremaining: 49.5s\n",
            "540:\tlearn: 0.2496954\ttotal: 58.2s\tremaining: 49.4s\n",
            "541:\tlearn: 0.2495245\ttotal: 58.3s\tremaining: 49.3s\n",
            "542:\tlearn: 0.2492768\ttotal: 58.5s\tremaining: 49.2s\n",
            "543:\tlearn: 0.2491526\ttotal: 58.6s\tremaining: 49.1s\n",
            "544:\tlearn: 0.2488223\ttotal: 58.7s\tremaining: 49s\n",
            "545:\tlearn: 0.2485556\ttotal: 58.8s\tremaining: 48.9s\n",
            "546:\tlearn: 0.2483460\ttotal: 58.9s\tremaining: 48.8s\n",
            "547:\tlearn: 0.2481128\ttotal: 59s\tremaining: 48.7s\n",
            "548:\tlearn: 0.2480391\ttotal: 59.1s\tremaining: 48.5s\n",
            "549:\tlearn: 0.2478839\ttotal: 59.2s\tremaining: 48.4s\n",
            "550:\tlearn: 0.2476900\ttotal: 59.3s\tremaining: 48.3s\n",
            "551:\tlearn: 0.2475322\ttotal: 59.4s\tremaining: 48.2s\n",
            "552:\tlearn: 0.2472410\ttotal: 59.5s\tremaining: 48.1s\n",
            "553:\tlearn: 0.2471077\ttotal: 59.6s\tremaining: 48s\n",
            "554:\tlearn: 0.2469224\ttotal: 59.7s\tremaining: 47.9s\n",
            "555:\tlearn: 0.2466335\ttotal: 59.8s\tremaining: 47.8s\n",
            "556:\tlearn: 0.2462570\ttotal: 59.9s\tremaining: 47.7s\n",
            "557:\tlearn: 0.2461405\ttotal: 1m\tremaining: 47.6s\n",
            "558:\tlearn: 0.2459360\ttotal: 1m\tremaining: 47.5s\n",
            "559:\tlearn: 0.2456658\ttotal: 1m\tremaining: 47.3s\n",
            "560:\tlearn: 0.2454549\ttotal: 1m\tremaining: 47.2s\n",
            "561:\tlearn: 0.2453007\ttotal: 1m\tremaining: 47.2s\n",
            "562:\tlearn: 0.2452010\ttotal: 1m\tremaining: 47.2s\n",
            "563:\tlearn: 0.2449484\ttotal: 1m\tremaining: 47.1s\n",
            "564:\tlearn: 0.2447611\ttotal: 1m 1s\tremaining: 47s\n",
            "565:\tlearn: 0.2446011\ttotal: 1m 1s\tremaining: 46.9s\n",
            "566:\tlearn: 0.2443849\ttotal: 1m 1s\tremaining: 46.8s\n",
            "567:\tlearn: 0.2440512\ttotal: 1m 1s\tremaining: 46.7s\n",
            "568:\tlearn: 0.2438604\ttotal: 1m 1s\tremaining: 46.7s\n",
            "569:\tlearn: 0.2436458\ttotal: 1m 1s\tremaining: 46.6s\n",
            "570:\tlearn: 0.2434350\ttotal: 1m 1s\tremaining: 46.5s\n",
            "571:\tlearn: 0.2432249\ttotal: 1m 1s\tremaining: 46.4s\n",
            "572:\tlearn: 0.2431269\ttotal: 1m 2s\tremaining: 46.3s\n",
            "573:\tlearn: 0.2430135\ttotal: 1m 2s\tremaining: 46.2s\n",
            "574:\tlearn: 0.2428398\ttotal: 1m 2s\tremaining: 46.1s\n",
            "575:\tlearn: 0.2427017\ttotal: 1m 2s\tremaining: 46.1s\n",
            "576:\tlearn: 0.2424661\ttotal: 1m 2s\tremaining: 46s\n",
            "577:\tlearn: 0.2422631\ttotal: 1m 2s\tremaining: 45.9s\n",
            "578:\tlearn: 0.2421131\ttotal: 1m 2s\tremaining: 45.8s\n",
            "579:\tlearn: 0.2418066\ttotal: 1m 3s\tremaining: 45.6s\n",
            "580:\tlearn: 0.2416811\ttotal: 1m 3s\tremaining: 45.5s\n",
            "581:\tlearn: 0.2414564\ttotal: 1m 3s\tremaining: 45.4s\n",
            "582:\tlearn: 0.2412711\ttotal: 1m 3s\tremaining: 45.3s\n",
            "583:\tlearn: 0.2411135\ttotal: 1m 3s\tremaining: 45.2s\n",
            "584:\tlearn: 0.2410224\ttotal: 1m 3s\tremaining: 45.1s\n",
            "585:\tlearn: 0.2408264\ttotal: 1m 3s\tremaining: 45s\n",
            "586:\tlearn: 0.2407500\ttotal: 1m 3s\tremaining: 44.9s\n",
            "587:\tlearn: 0.2404295\ttotal: 1m 3s\tremaining: 44.8s\n",
            "588:\tlearn: 0.2403619\ttotal: 1m 4s\tremaining: 44.7s\n",
            "589:\tlearn: 0.2402776\ttotal: 1m 4s\tremaining: 44.6s\n",
            "590:\tlearn: 0.2401097\ttotal: 1m 4s\tremaining: 44.5s\n",
            "591:\tlearn: 0.2398437\ttotal: 1m 4s\tremaining: 44.4s\n",
            "592:\tlearn: 0.2397220\ttotal: 1m 4s\tremaining: 44.2s\n",
            "593:\tlearn: 0.2394289\ttotal: 1m 4s\tremaining: 44.1s\n",
            "594:\tlearn: 0.2392181\ttotal: 1m 4s\tremaining: 44s\n",
            "595:\tlearn: 0.2389719\ttotal: 1m 4s\tremaining: 43.9s\n",
            "596:\tlearn: 0.2388540\ttotal: 1m 4s\tremaining: 43.8s\n",
            "597:\tlearn: 0.2387315\ttotal: 1m 4s\tremaining: 43.7s\n",
            "598:\tlearn: 0.2386452\ttotal: 1m 5s\tremaining: 43.6s\n",
            "599:\tlearn: 0.2385098\ttotal: 1m 5s\tremaining: 43.5s\n",
            "600:\tlearn: 0.2383428\ttotal: 1m 5s\tremaining: 43.4s\n",
            "601:\tlearn: 0.2382530\ttotal: 1m 5s\tremaining: 43.3s\n",
            "602:\tlearn: 0.2379436\ttotal: 1m 5s\tremaining: 43.1s\n",
            "603:\tlearn: 0.2377354\ttotal: 1m 5s\tremaining: 43s\n",
            "604:\tlearn: 0.2375605\ttotal: 1m 5s\tremaining: 42.9s\n",
            "605:\tlearn: 0.2374243\ttotal: 1m 5s\tremaining: 42.8s\n",
            "606:\tlearn: 0.2372127\ttotal: 1m 5s\tremaining: 42.7s\n",
            "607:\tlearn: 0.2369998\ttotal: 1m 6s\tremaining: 42.6s\n",
            "608:\tlearn: 0.2368870\ttotal: 1m 6s\tremaining: 42.5s\n",
            "609:\tlearn: 0.2366055\ttotal: 1m 6s\tremaining: 42.5s\n",
            "610:\tlearn: 0.2363880\ttotal: 1m 6s\tremaining: 42.4s\n",
            "611:\tlearn: 0.2361992\ttotal: 1m 6s\tremaining: 42.3s\n",
            "612:\tlearn: 0.2360445\ttotal: 1m 6s\tremaining: 42.2s\n",
            "613:\tlearn: 0.2358800\ttotal: 1m 6s\tremaining: 42.1s\n",
            "614:\tlearn: 0.2356491\ttotal: 1m 7s\tremaining: 41.9s\n",
            "615:\tlearn: 0.2354866\ttotal: 1m 7s\tremaining: 41.8s\n",
            "616:\tlearn: 0.2352842\ttotal: 1m 7s\tremaining: 41.7s\n",
            "617:\tlearn: 0.2350458\ttotal: 1m 7s\tremaining: 41.6s\n",
            "618:\tlearn: 0.2347782\ttotal: 1m 7s\tremaining: 41.5s\n",
            "619:\tlearn: 0.2346156\ttotal: 1m 7s\tremaining: 41.4s\n",
            "620:\tlearn: 0.2344300\ttotal: 1m 7s\tremaining: 41.3s\n",
            "621:\tlearn: 0.2342890\ttotal: 1m 7s\tremaining: 41.2s\n",
            "622:\tlearn: 0.2341724\ttotal: 1m 7s\tremaining: 41.1s\n",
            "623:\tlearn: 0.2340406\ttotal: 1m 7s\tremaining: 41s\n",
            "624:\tlearn: 0.2338289\ttotal: 1m 8s\tremaining: 40.8s\n",
            "625:\tlearn: 0.2337607\ttotal: 1m 8s\tremaining: 40.7s\n",
            "626:\tlearn: 0.2336843\ttotal: 1m 8s\tremaining: 40.6s\n",
            "627:\tlearn: 0.2335538\ttotal: 1m 8s\tremaining: 40.5s\n",
            "628:\tlearn: 0.2334727\ttotal: 1m 8s\tremaining: 40.4s\n",
            "629:\tlearn: 0.2333469\ttotal: 1m 8s\tremaining: 40.3s\n",
            "630:\tlearn: 0.2332470\ttotal: 1m 8s\tremaining: 40.2s\n",
            "631:\tlearn: 0.2331161\ttotal: 1m 8s\tremaining: 40.1s\n",
            "632:\tlearn: 0.2329449\ttotal: 1m 8s\tremaining: 40s\n",
            "633:\tlearn: 0.2326848\ttotal: 1m 9s\tremaining: 39.8s\n",
            "634:\tlearn: 0.2324844\ttotal: 1m 9s\tremaining: 39.7s\n",
            "635:\tlearn: 0.2323668\ttotal: 1m 9s\tremaining: 39.6s\n",
            "636:\tlearn: 0.2323153\ttotal: 1m 9s\tremaining: 39.5s\n",
            "637:\tlearn: 0.2320805\ttotal: 1m 9s\tremaining: 39.4s\n",
            "638:\tlearn: 0.2319198\ttotal: 1m 9s\tremaining: 39.3s\n",
            "639:\tlearn: 0.2318055\ttotal: 1m 9s\tremaining: 39.2s\n",
            "640:\tlearn: 0.2314803\ttotal: 1m 9s\tremaining: 39.1s\n",
            "641:\tlearn: 0.2313642\ttotal: 1m 9s\tremaining: 39s\n",
            "642:\tlearn: 0.2311443\ttotal: 1m 9s\tremaining: 38.9s\n",
            "643:\tlearn: 0.2310303\ttotal: 1m 10s\tremaining: 38.7s\n",
            "644:\tlearn: 0.2309044\ttotal: 1m 10s\tremaining: 38.6s\n",
            "645:\tlearn: 0.2307860\ttotal: 1m 10s\tremaining: 38.5s\n",
            "646:\tlearn: 0.2306736\ttotal: 1m 10s\tremaining: 38.4s\n",
            "647:\tlearn: 0.2306057\ttotal: 1m 10s\tremaining: 38.3s\n",
            "648:\tlearn: 0.2304668\ttotal: 1m 10s\tremaining: 38.2s\n",
            "649:\tlearn: 0.2303523\ttotal: 1m 10s\tremaining: 38.1s\n",
            "650:\tlearn: 0.2300899\ttotal: 1m 10s\tremaining: 38s\n",
            "651:\tlearn: 0.2299776\ttotal: 1m 10s\tremaining: 37.9s\n",
            "652:\tlearn: 0.2298721\ttotal: 1m 11s\tremaining: 37.7s\n",
            "653:\tlearn: 0.2296534\ttotal: 1m 11s\tremaining: 37.6s\n",
            "654:\tlearn: 0.2294945\ttotal: 1m 11s\tremaining: 37.5s\n",
            "655:\tlearn: 0.2291824\ttotal: 1m 11s\tremaining: 37.4s\n",
            "656:\tlearn: 0.2291244\ttotal: 1m 11s\tremaining: 37.3s\n",
            "657:\tlearn: 0.2288024\ttotal: 1m 11s\tremaining: 37.2s\n",
            "658:\tlearn: 0.2286840\ttotal: 1m 11s\tremaining: 37.1s\n",
            "659:\tlearn: 0.2285610\ttotal: 1m 11s\tremaining: 37s\n",
            "660:\tlearn: 0.2284186\ttotal: 1m 11s\tremaining: 36.9s\n",
            "661:\tlearn: 0.2283341\ttotal: 1m 11s\tremaining: 36.8s\n",
            "662:\tlearn: 0.2281265\ttotal: 1m 12s\tremaining: 36.6s\n",
            "663:\tlearn: 0.2279956\ttotal: 1m 12s\tremaining: 36.5s\n",
            "664:\tlearn: 0.2278591\ttotal: 1m 12s\tremaining: 36.4s\n",
            "665:\tlearn: 0.2277898\ttotal: 1m 12s\tremaining: 36.3s\n",
            "666:\tlearn: 0.2276459\ttotal: 1m 12s\tremaining: 36.2s\n",
            "667:\tlearn: 0.2275400\ttotal: 1m 12s\tremaining: 36.1s\n",
            "668:\tlearn: 0.2273647\ttotal: 1m 12s\tremaining: 36s\n",
            "669:\tlearn: 0.2271936\ttotal: 1m 12s\tremaining: 35.9s\n",
            "670:\tlearn: 0.2269743\ttotal: 1m 12s\tremaining: 35.8s\n",
            "671:\tlearn: 0.2268062\ttotal: 1m 13s\tremaining: 35.7s\n",
            "672:\tlearn: 0.2267596\ttotal: 1m 13s\tremaining: 35.5s\n",
            "673:\tlearn: 0.2265228\ttotal: 1m 13s\tremaining: 35.4s\n",
            "674:\tlearn: 0.2263687\ttotal: 1m 13s\tremaining: 35.3s\n",
            "675:\tlearn: 0.2261106\ttotal: 1m 13s\tremaining: 35.2s\n",
            "676:\tlearn: 0.2260091\ttotal: 1m 13s\tremaining: 35.1s\n",
            "677:\tlearn: 0.2258206\ttotal: 1m 13s\tremaining: 35s\n",
            "678:\tlearn: 0.2257175\ttotal: 1m 13s\tremaining: 34.9s\n",
            "679:\tlearn: 0.2255340\ttotal: 1m 13s\tremaining: 34.8s\n",
            "680:\tlearn: 0.2253372\ttotal: 1m 14s\tremaining: 34.7s\n",
            "681:\tlearn: 0.2252041\ttotal: 1m 14s\tremaining: 34.6s\n",
            "682:\tlearn: 0.2248378\ttotal: 1m 14s\tremaining: 34.4s\n",
            "683:\tlearn: 0.2247135\ttotal: 1m 14s\tremaining: 34.3s\n",
            "684:\tlearn: 0.2245737\ttotal: 1m 14s\tremaining: 34.2s\n",
            "685:\tlearn: 0.2245071\ttotal: 1m 14s\tremaining: 34.1s\n",
            "686:\tlearn: 0.2242972\ttotal: 1m 14s\tremaining: 34s\n",
            "687:\tlearn: 0.2241758\ttotal: 1m 14s\tremaining: 33.9s\n",
            "688:\tlearn: 0.2240636\ttotal: 1m 14s\tremaining: 33.8s\n",
            "689:\tlearn: 0.2239503\ttotal: 1m 14s\tremaining: 33.7s\n",
            "690:\tlearn: 0.2237944\ttotal: 1m 15s\tremaining: 33.6s\n",
            "691:\tlearn: 0.2236233\ttotal: 1m 15s\tremaining: 33.5s\n",
            "692:\tlearn: 0.2233716\ttotal: 1m 15s\tremaining: 33.4s\n",
            "693:\tlearn: 0.2231420\ttotal: 1m 15s\tremaining: 33.3s\n",
            "694:\tlearn: 0.2229204\ttotal: 1m 15s\tremaining: 33.1s\n",
            "695:\tlearn: 0.2226499\ttotal: 1m 15s\tremaining: 33s\n",
            "696:\tlearn: 0.2224052\ttotal: 1m 15s\tremaining: 32.9s\n",
            "697:\tlearn: 0.2222654\ttotal: 1m 15s\tremaining: 32.8s\n",
            "698:\tlearn: 0.2220467\ttotal: 1m 15s\tremaining: 32.7s\n",
            "699:\tlearn: 0.2219053\ttotal: 1m 16s\tremaining: 32.6s\n",
            "700:\tlearn: 0.2215999\ttotal: 1m 16s\tremaining: 32.5s\n",
            "701:\tlearn: 0.2213553\ttotal: 1m 16s\tremaining: 32.4s\n",
            "702:\tlearn: 0.2212450\ttotal: 1m 16s\tremaining: 32.3s\n",
            "703:\tlearn: 0.2211834\ttotal: 1m 16s\tremaining: 32.2s\n",
            "704:\tlearn: 0.2209510\ttotal: 1m 16s\tremaining: 32.1s\n",
            "705:\tlearn: 0.2208006\ttotal: 1m 16s\tremaining: 31.9s\n",
            "706:\tlearn: 0.2206229\ttotal: 1m 16s\tremaining: 31.8s\n",
            "707:\tlearn: 0.2203637\ttotal: 1m 16s\tremaining: 31.7s\n",
            "708:\tlearn: 0.2202810\ttotal: 1m 17s\tremaining: 31.6s\n",
            "709:\tlearn: 0.2202180\ttotal: 1m 17s\tremaining: 31.5s\n",
            "710:\tlearn: 0.2201397\ttotal: 1m 17s\tremaining: 31.4s\n",
            "711:\tlearn: 0.2199151\ttotal: 1m 17s\tremaining: 31.3s\n",
            "712:\tlearn: 0.2198270\ttotal: 1m 17s\tremaining: 31.2s\n",
            "713:\tlearn: 0.2195858\ttotal: 1m 17s\tremaining: 31.1s\n",
            "714:\tlearn: 0.2194255\ttotal: 1m 17s\tremaining: 31s\n",
            "715:\tlearn: 0.2193507\ttotal: 1m 17s\tremaining: 30.8s\n",
            "716:\tlearn: 0.2192027\ttotal: 1m 17s\tremaining: 30.7s\n",
            "717:\tlearn: 0.2189687\ttotal: 1m 17s\tremaining: 30.6s\n",
            "718:\tlearn: 0.2188009\ttotal: 1m 18s\tremaining: 30.5s\n",
            "719:\tlearn: 0.2185911\ttotal: 1m 18s\tremaining: 30.4s\n",
            "720:\tlearn: 0.2184828\ttotal: 1m 18s\tremaining: 30.3s\n",
            "721:\tlearn: 0.2183645\ttotal: 1m 18s\tremaining: 30.2s\n",
            "722:\tlearn: 0.2182368\ttotal: 1m 18s\tremaining: 30.1s\n",
            "723:\tlearn: 0.2180846\ttotal: 1m 18s\tremaining: 30s\n",
            "724:\tlearn: 0.2180055\ttotal: 1m 18s\tremaining: 29.9s\n",
            "725:\tlearn: 0.2177810\ttotal: 1m 18s\tremaining: 29.7s\n",
            "726:\tlearn: 0.2176095\ttotal: 1m 18s\tremaining: 29.6s\n",
            "727:\tlearn: 0.2175241\ttotal: 1m 19s\tremaining: 29.5s\n",
            "728:\tlearn: 0.2174800\ttotal: 1m 19s\tremaining: 29.4s\n",
            "729:\tlearn: 0.2171959\ttotal: 1m 19s\tremaining: 29.3s\n",
            "730:\tlearn: 0.2170689\ttotal: 1m 19s\tremaining: 29.2s\n",
            "731:\tlearn: 0.2169834\ttotal: 1m 19s\tremaining: 29.1s\n",
            "732:\tlearn: 0.2166788\ttotal: 1m 19s\tremaining: 29s\n",
            "733:\tlearn: 0.2163014\ttotal: 1m 19s\tremaining: 28.9s\n",
            "734:\tlearn: 0.2162060\ttotal: 1m 19s\tremaining: 28.8s\n",
            "735:\tlearn: 0.2161099\ttotal: 1m 19s\tremaining: 28.7s\n",
            "736:\tlearn: 0.2160373\ttotal: 1m 19s\tremaining: 28.5s\n",
            "737:\tlearn: 0.2158497\ttotal: 1m 20s\tremaining: 28.4s\n",
            "738:\tlearn: 0.2157200\ttotal: 1m 20s\tremaining: 28.3s\n",
            "739:\tlearn: 0.2155792\ttotal: 1m 20s\tremaining: 28.2s\n",
            "740:\tlearn: 0.2154420\ttotal: 1m 20s\tremaining: 28.1s\n",
            "741:\tlearn: 0.2153370\ttotal: 1m 20s\tremaining: 28s\n",
            "742:\tlearn: 0.2152241\ttotal: 1m 20s\tremaining: 27.9s\n",
            "743:\tlearn: 0.2151491\ttotal: 1m 20s\tremaining: 27.8s\n",
            "744:\tlearn: 0.2149917\ttotal: 1m 20s\tremaining: 27.7s\n",
            "745:\tlearn: 0.2148640\ttotal: 1m 20s\tremaining: 27.6s\n",
            "746:\tlearn: 0.2145984\ttotal: 1m 21s\tremaining: 27.4s\n",
            "747:\tlearn: 0.2143964\ttotal: 1m 21s\tremaining: 27.3s\n",
            "748:\tlearn: 0.2142849\ttotal: 1m 21s\tremaining: 27.2s\n",
            "749:\tlearn: 0.2141241\ttotal: 1m 21s\tremaining: 27.1s\n",
            "750:\tlearn: 0.2140126\ttotal: 1m 21s\tremaining: 27s\n",
            "751:\tlearn: 0.2139890\ttotal: 1m 21s\tremaining: 26.9s\n",
            "752:\tlearn: 0.2138762\ttotal: 1m 21s\tremaining: 26.8s\n",
            "753:\tlearn: 0.2137824\ttotal: 1m 21s\tremaining: 26.7s\n",
            "754:\tlearn: 0.2136003\ttotal: 1m 21s\tremaining: 26.6s\n",
            "755:\tlearn: 0.2135296\ttotal: 1m 21s\tremaining: 26.5s\n",
            "756:\tlearn: 0.2134153\ttotal: 1m 22s\tremaining: 26.4s\n",
            "757:\tlearn: 0.2132242\ttotal: 1m 22s\tremaining: 26.2s\n",
            "758:\tlearn: 0.2130309\ttotal: 1m 22s\tremaining: 26.1s\n",
            "759:\tlearn: 0.2128288\ttotal: 1m 22s\tremaining: 26s\n",
            "760:\tlearn: 0.2125943\ttotal: 1m 22s\tremaining: 25.9s\n",
            "761:\tlearn: 0.2124375\ttotal: 1m 22s\tremaining: 25.8s\n",
            "762:\tlearn: 0.2122879\ttotal: 1m 22s\tremaining: 25.7s\n",
            "763:\tlearn: 0.2122403\ttotal: 1m 22s\tremaining: 25.6s\n",
            "764:\tlearn: 0.2121212\ttotal: 1m 22s\tremaining: 25.5s\n",
            "765:\tlearn: 0.2120178\ttotal: 1m 23s\tremaining: 25.4s\n",
            "766:\tlearn: 0.2118771\ttotal: 1m 23s\tremaining: 25.3s\n",
            "767:\tlearn: 0.2116226\ttotal: 1m 23s\tremaining: 25.2s\n",
            "768:\tlearn: 0.2113497\ttotal: 1m 23s\tremaining: 25s\n",
            "769:\tlearn: 0.2112154\ttotal: 1m 23s\tremaining: 24.9s\n",
            "770:\tlearn: 0.2110876\ttotal: 1m 23s\tremaining: 24.8s\n",
            "771:\tlearn: 0.2109371\ttotal: 1m 23s\tremaining: 24.7s\n",
            "772:\tlearn: 0.2108177\ttotal: 1m 23s\tremaining: 24.6s\n",
            "773:\tlearn: 0.2106591\ttotal: 1m 23s\tremaining: 24.5s\n",
            "774:\tlearn: 0.2105921\ttotal: 1m 24s\tremaining: 24.4s\n",
            "775:\tlearn: 0.2104456\ttotal: 1m 24s\tremaining: 24.3s\n",
            "776:\tlearn: 0.2102618\ttotal: 1m 24s\tremaining: 24.2s\n",
            "777:\tlearn: 0.2101957\ttotal: 1m 24s\tremaining: 24.1s\n",
            "778:\tlearn: 0.2101158\ttotal: 1m 24s\tremaining: 24s\n",
            "779:\tlearn: 0.2100052\ttotal: 1m 24s\tremaining: 23.8s\n",
            "780:\tlearn: 0.2098072\ttotal: 1m 24s\tremaining: 23.7s\n",
            "781:\tlearn: 0.2096567\ttotal: 1m 24s\tremaining: 23.6s\n",
            "782:\tlearn: 0.2095630\ttotal: 1m 24s\tremaining: 23.5s\n",
            "783:\tlearn: 0.2092823\ttotal: 1m 24s\tremaining: 23.4s\n",
            "784:\tlearn: 0.2091933\ttotal: 1m 25s\tremaining: 23.3s\n",
            "785:\tlearn: 0.2090721\ttotal: 1m 25s\tremaining: 23.2s\n",
            "786:\tlearn: 0.2087338\ttotal: 1m 25s\tremaining: 23.1s\n",
            "787:\tlearn: 0.2086634\ttotal: 1m 25s\tremaining: 23s\n",
            "788:\tlearn: 0.2084339\ttotal: 1m 25s\tremaining: 22.9s\n",
            "789:\tlearn: 0.2083395\ttotal: 1m 25s\tremaining: 22.8s\n",
            "790:\tlearn: 0.2081440\ttotal: 1m 25s\tremaining: 22.6s\n",
            "791:\tlearn: 0.2080132\ttotal: 1m 25s\tremaining: 22.5s\n",
            "792:\tlearn: 0.2078513\ttotal: 1m 25s\tremaining: 22.4s\n",
            "793:\tlearn: 0.2077790\ttotal: 1m 26s\tremaining: 22.3s\n",
            "794:\tlearn: 0.2075624\ttotal: 1m 26s\tremaining: 22.2s\n",
            "795:\tlearn: 0.2073933\ttotal: 1m 26s\tremaining: 22.1s\n",
            "796:\tlearn: 0.2073182\ttotal: 1m 26s\tremaining: 22s\n",
            "797:\tlearn: 0.2070363\ttotal: 1m 26s\tremaining: 21.9s\n",
            "798:\tlearn: 0.2068854\ttotal: 1m 26s\tremaining: 21.8s\n",
            "799:\tlearn: 0.2067336\ttotal: 1m 26s\tremaining: 21.7s\n",
            "800:\tlearn: 0.2066063\ttotal: 1m 26s\tremaining: 21.6s\n",
            "801:\tlearn: 0.2063822\ttotal: 1m 26s\tremaining: 21.5s\n",
            "802:\tlearn: 0.2061661\ttotal: 1m 27s\tremaining: 21.3s\n",
            "803:\tlearn: 0.2060655\ttotal: 1m 27s\tremaining: 21.2s\n",
            "804:\tlearn: 0.2058158\ttotal: 1m 27s\tremaining: 21.1s\n",
            "805:\tlearn: 0.2056127\ttotal: 1m 27s\tremaining: 21s\n",
            "806:\tlearn: 0.2052942\ttotal: 1m 27s\tremaining: 20.9s\n",
            "807:\tlearn: 0.2050008\ttotal: 1m 27s\tremaining: 20.8s\n",
            "808:\tlearn: 0.2048228\ttotal: 1m 27s\tremaining: 20.7s\n",
            "809:\tlearn: 0.2047263\ttotal: 1m 27s\tremaining: 20.6s\n",
            "810:\tlearn: 0.2046321\ttotal: 1m 27s\tremaining: 20.5s\n",
            "811:\tlearn: 0.2044632\ttotal: 1m 27s\tremaining: 20.4s\n",
            "812:\tlearn: 0.2042797\ttotal: 1m 28s\tremaining: 20.3s\n",
            "813:\tlearn: 0.2040829\ttotal: 1m 28s\tremaining: 20.2s\n",
            "814:\tlearn: 0.2040004\ttotal: 1m 28s\tremaining: 20s\n",
            "815:\tlearn: 0.2039019\ttotal: 1m 28s\tremaining: 19.9s\n",
            "816:\tlearn: 0.2037531\ttotal: 1m 28s\tremaining: 19.8s\n",
            "817:\tlearn: 0.2037024\ttotal: 1m 28s\tremaining: 19.7s\n",
            "818:\tlearn: 0.2033981\ttotal: 1m 28s\tremaining: 19.6s\n",
            "819:\tlearn: 0.2032953\ttotal: 1m 28s\tremaining: 19.5s\n",
            "820:\tlearn: 0.2031059\ttotal: 1m 28s\tremaining: 19.4s\n",
            "821:\tlearn: 0.2030073\ttotal: 1m 29s\tremaining: 19.3s\n",
            "822:\tlearn: 0.2028634\ttotal: 1m 29s\tremaining: 19.2s\n",
            "823:\tlearn: 0.2027947\ttotal: 1m 29s\tremaining: 19.1s\n",
            "824:\tlearn: 0.2026751\ttotal: 1m 29s\tremaining: 19s\n",
            "825:\tlearn: 0.2026313\ttotal: 1m 29s\tremaining: 18.8s\n",
            "826:\tlearn: 0.2025830\ttotal: 1m 29s\tremaining: 18.7s\n",
            "827:\tlearn: 0.2024918\ttotal: 1m 29s\tremaining: 18.6s\n",
            "828:\tlearn: 0.2023968\ttotal: 1m 29s\tremaining: 18.5s\n",
            "829:\tlearn: 0.2023269\ttotal: 1m 29s\tremaining: 18.4s\n",
            "830:\tlearn: 0.2022745\ttotal: 1m 29s\tremaining: 18.3s\n",
            "831:\tlearn: 0.2021525\ttotal: 1m 30s\tremaining: 18.2s\n",
            "832:\tlearn: 0.2019644\ttotal: 1m 30s\tremaining: 18.1s\n",
            "833:\tlearn: 0.2018323\ttotal: 1m 30s\tremaining: 18s\n",
            "834:\tlearn: 0.2017119\ttotal: 1m 30s\tremaining: 17.9s\n",
            "835:\tlearn: 0.2015011\ttotal: 1m 30s\tremaining: 17.8s\n",
            "836:\tlearn: 0.2014056\ttotal: 1m 30s\tremaining: 17.6s\n",
            "837:\tlearn: 0.2012035\ttotal: 1m 30s\tremaining: 17.5s\n",
            "838:\tlearn: 0.2010899\ttotal: 1m 30s\tremaining: 17.4s\n",
            "839:\tlearn: 0.2009946\ttotal: 1m 30s\tremaining: 17.3s\n",
            "840:\tlearn: 0.2008883\ttotal: 1m 31s\tremaining: 17.2s\n",
            "841:\tlearn: 0.2006238\ttotal: 1m 31s\tremaining: 17.1s\n",
            "842:\tlearn: 0.2003390\ttotal: 1m 31s\tremaining: 17s\n",
            "843:\tlearn: 0.2002129\ttotal: 1m 31s\tremaining: 16.9s\n",
            "844:\tlearn: 0.2000682\ttotal: 1m 31s\tremaining: 16.8s\n",
            "845:\tlearn: 0.1999158\ttotal: 1m 31s\tremaining: 16.7s\n",
            "846:\tlearn: 0.1998056\ttotal: 1m 31s\tremaining: 16.6s\n",
            "847:\tlearn: 0.1995342\ttotal: 1m 32s\tremaining: 16.5s\n",
            "848:\tlearn: 0.1994883\ttotal: 1m 32s\tremaining: 16.4s\n",
            "849:\tlearn: 0.1993628\ttotal: 1m 32s\tremaining: 16.3s\n",
            "850:\tlearn: 0.1993121\ttotal: 1m 32s\tremaining: 16.2s\n",
            "851:\tlearn: 0.1991695\ttotal: 1m 32s\tremaining: 16.1s\n",
            "852:\tlearn: 0.1990529\ttotal: 1m 32s\tremaining: 16s\n",
            "853:\tlearn: 0.1990074\ttotal: 1m 32s\tremaining: 15.9s\n",
            "854:\tlearn: 0.1989179\ttotal: 1m 32s\tremaining: 15.8s\n",
            "855:\tlearn: 0.1988280\ttotal: 1m 33s\tremaining: 15.7s\n",
            "856:\tlearn: 0.1986633\ttotal: 1m 33s\tremaining: 15.5s\n",
            "857:\tlearn: 0.1986001\ttotal: 1m 33s\tremaining: 15.4s\n",
            "858:\tlearn: 0.1984048\ttotal: 1m 33s\tremaining: 15.3s\n",
            "859:\tlearn: 0.1981720\ttotal: 1m 33s\tremaining: 15.2s\n",
            "860:\tlearn: 0.1980259\ttotal: 1m 33s\tremaining: 15.1s\n",
            "861:\tlearn: 0.1979192\ttotal: 1m 33s\tremaining: 15s\n",
            "862:\tlearn: 0.1978406\ttotal: 1m 33s\tremaining: 14.9s\n",
            "863:\tlearn: 0.1975732\ttotal: 1m 33s\tremaining: 14.8s\n",
            "864:\tlearn: 0.1974157\ttotal: 1m 34s\tremaining: 14.7s\n",
            "865:\tlearn: 0.1972891\ttotal: 1m 34s\tremaining: 14.6s\n",
            "866:\tlearn: 0.1971499\ttotal: 1m 34s\tremaining: 14.5s\n",
            "867:\tlearn: 0.1970519\ttotal: 1m 34s\tremaining: 14.3s\n",
            "868:\tlearn: 0.1969919\ttotal: 1m 34s\tremaining: 14.2s\n",
            "869:\tlearn: 0.1968751\ttotal: 1m 34s\tremaining: 14.1s\n",
            "870:\tlearn: 0.1967539\ttotal: 1m 34s\tremaining: 14s\n",
            "871:\tlearn: 0.1966095\ttotal: 1m 34s\tremaining: 13.9s\n",
            "872:\tlearn: 0.1965138\ttotal: 1m 34s\tremaining: 13.8s\n",
            "873:\tlearn: 0.1964414\ttotal: 1m 34s\tremaining: 13.7s\n",
            "874:\tlearn: 0.1963373\ttotal: 1m 35s\tremaining: 13.6s\n",
            "875:\tlearn: 0.1961724\ttotal: 1m 35s\tremaining: 13.5s\n",
            "876:\tlearn: 0.1959882\ttotal: 1m 35s\tremaining: 13.4s\n",
            "877:\tlearn: 0.1958678\ttotal: 1m 35s\tremaining: 13.3s\n",
            "878:\tlearn: 0.1957362\ttotal: 1m 35s\tremaining: 13.1s\n",
            "879:\tlearn: 0.1955288\ttotal: 1m 35s\tremaining: 13s\n",
            "880:\tlearn: 0.1954215\ttotal: 1m 35s\tremaining: 12.9s\n",
            "881:\tlearn: 0.1953737\ttotal: 1m 35s\tremaining: 12.8s\n",
            "882:\tlearn: 0.1953134\ttotal: 1m 35s\tremaining: 12.7s\n",
            "883:\tlearn: 0.1951260\ttotal: 1m 36s\tremaining: 12.6s\n",
            "884:\tlearn: 0.1950683\ttotal: 1m 36s\tremaining: 12.5s\n",
            "885:\tlearn: 0.1948966\ttotal: 1m 36s\tremaining: 12.4s\n",
            "886:\tlearn: 0.1948383\ttotal: 1m 36s\tremaining: 12.3s\n",
            "887:\tlearn: 0.1947492\ttotal: 1m 36s\tremaining: 12.2s\n",
            "888:\tlearn: 0.1947343\ttotal: 1m 36s\tremaining: 12.1s\n",
            "889:\tlearn: 0.1945958\ttotal: 1m 36s\tremaining: 11.9s\n",
            "890:\tlearn: 0.1944706\ttotal: 1m 36s\tremaining: 11.8s\n",
            "891:\tlearn: 0.1944133\ttotal: 1m 36s\tremaining: 11.7s\n",
            "892:\tlearn: 0.1942988\ttotal: 1m 36s\tremaining: 11.6s\n",
            "893:\tlearn: 0.1941421\ttotal: 1m 37s\tremaining: 11.5s\n",
            "894:\tlearn: 0.1940746\ttotal: 1m 37s\tremaining: 11.4s\n",
            "895:\tlearn: 0.1939636\ttotal: 1m 37s\tremaining: 11.3s\n",
            "896:\tlearn: 0.1938844\ttotal: 1m 37s\tremaining: 11.2s\n",
            "897:\tlearn: 0.1938311\ttotal: 1m 37s\tremaining: 11.1s\n",
            "898:\tlearn: 0.1936974\ttotal: 1m 37s\tremaining: 11s\n",
            "899:\tlearn: 0.1935316\ttotal: 1m 37s\tremaining: 10.9s\n",
            "900:\tlearn: 0.1934209\ttotal: 1m 37s\tremaining: 10.8s\n",
            "901:\tlearn: 0.1933564\ttotal: 1m 37s\tremaining: 10.6s\n",
            "902:\tlearn: 0.1932581\ttotal: 1m 38s\tremaining: 10.5s\n",
            "903:\tlearn: 0.1930179\ttotal: 1m 38s\tremaining: 10.4s\n",
            "904:\tlearn: 0.1929378\ttotal: 1m 38s\tremaining: 10.3s\n",
            "905:\tlearn: 0.1928365\ttotal: 1m 38s\tremaining: 10.2s\n",
            "906:\tlearn: 0.1926785\ttotal: 1m 38s\tremaining: 10.1s\n",
            "907:\tlearn: 0.1925110\ttotal: 1m 38s\tremaining: 9.99s\n",
            "908:\tlearn: 0.1924051\ttotal: 1m 38s\tremaining: 9.88s\n",
            "909:\tlearn: 0.1922024\ttotal: 1m 38s\tremaining: 9.77s\n",
            "910:\tlearn: 0.1920135\ttotal: 1m 38s\tremaining: 9.66s\n",
            "911:\tlearn: 0.1919273\ttotal: 1m 39s\tremaining: 9.56s\n",
            "912:\tlearn: 0.1918270\ttotal: 1m 39s\tremaining: 9.45s\n",
            "913:\tlearn: 0.1917086\ttotal: 1m 39s\tremaining: 9.34s\n",
            "914:\tlearn: 0.1916444\ttotal: 1m 39s\tremaining: 9.23s\n",
            "915:\tlearn: 0.1914150\ttotal: 1m 39s\tremaining: 9.12s\n",
            "916:\tlearn: 0.1911498\ttotal: 1m 39s\tremaining: 9.01s\n",
            "917:\tlearn: 0.1910416\ttotal: 1m 39s\tremaining: 8.9s\n",
            "918:\tlearn: 0.1909464\ttotal: 1m 39s\tremaining: 8.8s\n",
            "919:\tlearn: 0.1907961\ttotal: 1m 39s\tremaining: 8.69s\n",
            "920:\tlearn: 0.1906897\ttotal: 1m 40s\tremaining: 8.58s\n",
            "921:\tlearn: 0.1905474\ttotal: 1m 40s\tremaining: 8.47s\n",
            "922:\tlearn: 0.1904870\ttotal: 1m 40s\tremaining: 8.36s\n",
            "923:\tlearn: 0.1904105\ttotal: 1m 40s\tremaining: 8.25s\n",
            "924:\tlearn: 0.1902723\ttotal: 1m 40s\tremaining: 8.14s\n",
            "925:\tlearn: 0.1901736\ttotal: 1m 40s\tremaining: 8.04s\n",
            "926:\tlearn: 0.1899519\ttotal: 1m 40s\tremaining: 7.93s\n",
            "927:\tlearn: 0.1898674\ttotal: 1m 40s\tremaining: 7.82s\n",
            "928:\tlearn: 0.1897755\ttotal: 1m 40s\tremaining: 7.71s\n",
            "929:\tlearn: 0.1896509\ttotal: 1m 40s\tremaining: 7.6s\n",
            "930:\tlearn: 0.1895576\ttotal: 1m 41s\tremaining: 7.49s\n",
            "931:\tlearn: 0.1894559\ttotal: 1m 41s\tremaining: 7.38s\n",
            "932:\tlearn: 0.1894061\ttotal: 1m 41s\tremaining: 7.27s\n",
            "933:\tlearn: 0.1892211\ttotal: 1m 41s\tremaining: 7.17s\n",
            "934:\tlearn: 0.1891812\ttotal: 1m 41s\tremaining: 7.06s\n",
            "935:\tlearn: 0.1890901\ttotal: 1m 41s\tremaining: 6.95s\n",
            "936:\tlearn: 0.1888855\ttotal: 1m 41s\tremaining: 6.84s\n",
            "937:\tlearn: 0.1887556\ttotal: 1m 41s\tremaining: 6.73s\n",
            "938:\tlearn: 0.1886358\ttotal: 1m 41s\tremaining: 6.62s\n",
            "939:\tlearn: 0.1885076\ttotal: 1m 42s\tremaining: 6.51s\n",
            "940:\tlearn: 0.1883994\ttotal: 1m 42s\tremaining: 6.4s\n",
            "941:\tlearn: 0.1882965\ttotal: 1m 42s\tremaining: 6.29s\n",
            "942:\tlearn: 0.1880697\ttotal: 1m 42s\tremaining: 6.19s\n",
            "943:\tlearn: 0.1879483\ttotal: 1m 42s\tremaining: 6.08s\n",
            "944:\tlearn: 0.1878372\ttotal: 1m 42s\tremaining: 5.97s\n",
            "945:\tlearn: 0.1875416\ttotal: 1m 42s\tremaining: 5.86s\n",
            "946:\tlearn: 0.1874336\ttotal: 1m 42s\tremaining: 5.75s\n",
            "947:\tlearn: 0.1873257\ttotal: 1m 42s\tremaining: 5.64s\n",
            "948:\tlearn: 0.1872058\ttotal: 1m 42s\tremaining: 5.54s\n",
            "949:\tlearn: 0.1871123\ttotal: 1m 43s\tremaining: 5.43s\n",
            "950:\tlearn: 0.1870861\ttotal: 1m 43s\tremaining: 5.32s\n",
            "951:\tlearn: 0.1868215\ttotal: 1m 43s\tremaining: 5.21s\n",
            "952:\tlearn: 0.1866658\ttotal: 1m 43s\tremaining: 5.1s\n",
            "953:\tlearn: 0.1864364\ttotal: 1m 43s\tremaining: 4.99s\n",
            "954:\tlearn: 0.1862550\ttotal: 1m 43s\tremaining: 4.88s\n",
            "955:\tlearn: 0.1861295\ttotal: 1m 43s\tremaining: 4.78s\n",
            "956:\tlearn: 0.1860740\ttotal: 1m 43s\tremaining: 4.67s\n",
            "957:\tlearn: 0.1859787\ttotal: 1m 43s\tremaining: 4.56s\n",
            "958:\tlearn: 0.1858668\ttotal: 1m 44s\tremaining: 4.45s\n",
            "959:\tlearn: 0.1857410\ttotal: 1m 44s\tremaining: 4.34s\n",
            "960:\tlearn: 0.1855609\ttotal: 1m 44s\tremaining: 4.23s\n",
            "961:\tlearn: 0.1855132\ttotal: 1m 44s\tremaining: 4.12s\n",
            "962:\tlearn: 0.1853979\ttotal: 1m 44s\tremaining: 4.01s\n",
            "963:\tlearn: 0.1853191\ttotal: 1m 44s\tremaining: 3.91s\n",
            "964:\tlearn: 0.1851704\ttotal: 1m 44s\tremaining: 3.8s\n",
            "965:\tlearn: 0.1850434\ttotal: 1m 44s\tremaining: 3.69s\n",
            "966:\tlearn: 0.1849547\ttotal: 1m 44s\tremaining: 3.58s\n",
            "967:\tlearn: 0.1848741\ttotal: 1m 45s\tremaining: 3.47s\n",
            "968:\tlearn: 0.1847856\ttotal: 1m 45s\tremaining: 3.36s\n",
            "969:\tlearn: 0.1846708\ttotal: 1m 45s\tremaining: 3.25s\n",
            "970:\tlearn: 0.1846123\ttotal: 1m 45s\tremaining: 3.15s\n",
            "971:\tlearn: 0.1845112\ttotal: 1m 45s\tremaining: 3.04s\n",
            "972:\tlearn: 0.1844176\ttotal: 1m 45s\tremaining: 2.93s\n",
            "973:\tlearn: 0.1842959\ttotal: 1m 45s\tremaining: 2.82s\n",
            "974:\tlearn: 0.1841669\ttotal: 1m 45s\tremaining: 2.71s\n",
            "975:\tlearn: 0.1840509\ttotal: 1m 45s\tremaining: 2.6s\n",
            "976:\tlearn: 0.1839260\ttotal: 1m 45s\tremaining: 2.5s\n",
            "977:\tlearn: 0.1838942\ttotal: 1m 46s\tremaining: 2.39s\n",
            "978:\tlearn: 0.1838234\ttotal: 1m 46s\tremaining: 2.28s\n",
            "979:\tlearn: 0.1837191\ttotal: 1m 46s\tremaining: 2.17s\n",
            "980:\tlearn: 0.1835913\ttotal: 1m 46s\tremaining: 2.06s\n",
            "981:\tlearn: 0.1835479\ttotal: 1m 46s\tremaining: 1.95s\n",
            "982:\tlearn: 0.1834747\ttotal: 1m 46s\tremaining: 1.84s\n",
            "983:\tlearn: 0.1833724\ttotal: 1m 46s\tremaining: 1.74s\n",
            "984:\tlearn: 0.1832280\ttotal: 1m 46s\tremaining: 1.63s\n",
            "985:\tlearn: 0.1830768\ttotal: 1m 46s\tremaining: 1.52s\n",
            "986:\tlearn: 0.1828913\ttotal: 1m 47s\tremaining: 1.41s\n",
            "987:\tlearn: 0.1827596\ttotal: 1m 47s\tremaining: 1.3s\n",
            "988:\tlearn: 0.1826330\ttotal: 1m 47s\tremaining: 1.19s\n",
            "989:\tlearn: 0.1824940\ttotal: 1m 47s\tremaining: 1.08s\n",
            "990:\tlearn: 0.1824121\ttotal: 1m 47s\tremaining: 976ms\n",
            "991:\tlearn: 0.1823329\ttotal: 1m 47s\tremaining: 868ms\n",
            "992:\tlearn: 0.1823076\ttotal: 1m 47s\tremaining: 759ms\n",
            "993:\tlearn: 0.1821785\ttotal: 1m 47s\tremaining: 651ms\n",
            "994:\tlearn: 0.1820656\ttotal: 1m 47s\tremaining: 542ms\n",
            "995:\tlearn: 0.1819269\ttotal: 1m 48s\tremaining: 434ms\n",
            "996:\tlearn: 0.1818781\ttotal: 1m 48s\tremaining: 325ms\n",
            "997:\tlearn: 0.1817880\ttotal: 1m 48s\tremaining: 217ms\n",
            "998:\tlearn: 0.1816840\ttotal: 1m 48s\tremaining: 108ms\n",
            "999:\tlearn: 0.1815843\ttotal: 1m 48s\tremaining: 0us\n",
            "Доля верных ответов на тестовой выборке, 87.45%\n",
            "Время обучения, 109.71 сек\n",
            "Время применения, 0.15 сек\n"
          ]
        }
      ]
    },
    {
      "cell_type": "markdown",
      "source": [
        "**Вывод:**"
      ],
      "metadata": {
        "id": "u_Lj37_kp-GX"
      }
    },
    {
      "cell_type": "code",
      "source": [
        "import pandas as pd\n",
        "\n",
        "data = {'Model': ['LogisticRegression', 'Linear SVM', 'Linear SVM', 'Kernel SVM', 'CatBoost'],\n",
        "        'Features': ['Random + PCA', 'Random + PCA', 'Original', 'Original', 'Original + PCA'],\n",
        "        'Accuracy': [85.89, 87.74, 83.78, 88.28, 87.45],\n",
        "        'Training_time': [59.79, 515, 2487.8, 395.10, 109.71],\n",
        "        'Prediction_time': [0.49, 0.45, 0.05, 199.67, 0.15]}\n",
        "\n",
        "df = pd.DataFrame(data)\n",
        "df"
      ],
      "metadata": {
        "colab": {
          "base_uri": "https://localhost:8080/",
          "height": 206
        },
        "id": "Yq0NI4pSqg6e",
        "outputId": "1ef3d616-45bf-4d55-d865-14e5d79c5527"
      },
      "execution_count": null,
      "outputs": [
        {
          "output_type": "execute_result",
          "data": {
            "text/plain": [
              "                Model        Features  Accuracy  Training_time  \\\n",
              "0  LogisticRegression    Random + PCA     85.89          59.79   \n",
              "1          Linear SVM    Random + PCA     87.74         515.00   \n",
              "2          Linear SVM        Original     83.78        2487.80   \n",
              "3          Kernel SVM        Original     88.28         395.10   \n",
              "4            CatBoost  Original + PCA     87.45         109.71   \n",
              "\n",
              "   Prediction_time  \n",
              "0             0.49  \n",
              "1             0.45  \n",
              "2             0.05  \n",
              "3           199.67  \n",
              "4             0.15  "
            ],
            "text/html": [
              "\n",
              "  <div id=\"df-5a025c85-6c9e-4578-a703-2a67d9d7a295\" class=\"colab-df-container\">\n",
              "    <div>\n",
              "<style scoped>\n",
              "    .dataframe tbody tr th:only-of-type {\n",
              "        vertical-align: middle;\n",
              "    }\n",
              "\n",
              "    .dataframe tbody tr th {\n",
              "        vertical-align: top;\n",
              "    }\n",
              "\n",
              "    .dataframe thead th {\n",
              "        text-align: right;\n",
              "    }\n",
              "</style>\n",
              "<table border=\"1\" class=\"dataframe\">\n",
              "  <thead>\n",
              "    <tr style=\"text-align: right;\">\n",
              "      <th></th>\n",
              "      <th>Model</th>\n",
              "      <th>Features</th>\n",
              "      <th>Accuracy</th>\n",
              "      <th>Training_time</th>\n",
              "      <th>Prediction_time</th>\n",
              "    </tr>\n",
              "  </thead>\n",
              "  <tbody>\n",
              "    <tr>\n",
              "      <th>0</th>\n",
              "      <td>LogisticRegression</td>\n",
              "      <td>Random + PCA</td>\n",
              "      <td>85.89</td>\n",
              "      <td>59.79</td>\n",
              "      <td>0.49</td>\n",
              "    </tr>\n",
              "    <tr>\n",
              "      <th>1</th>\n",
              "      <td>Linear SVM</td>\n",
              "      <td>Random + PCA</td>\n",
              "      <td>87.74</td>\n",
              "      <td>515.00</td>\n",
              "      <td>0.45</td>\n",
              "    </tr>\n",
              "    <tr>\n",
              "      <th>2</th>\n",
              "      <td>Linear SVM</td>\n",
              "      <td>Original</td>\n",
              "      <td>83.78</td>\n",
              "      <td>2487.80</td>\n",
              "      <td>0.05</td>\n",
              "    </tr>\n",
              "    <tr>\n",
              "      <th>3</th>\n",
              "      <td>Kernel SVM</td>\n",
              "      <td>Original</td>\n",
              "      <td>88.28</td>\n",
              "      <td>395.10</td>\n",
              "      <td>199.67</td>\n",
              "    </tr>\n",
              "    <tr>\n",
              "      <th>4</th>\n",
              "      <td>CatBoost</td>\n",
              "      <td>Original + PCA</td>\n",
              "      <td>87.45</td>\n",
              "      <td>109.71</td>\n",
              "      <td>0.15</td>\n",
              "    </tr>\n",
              "  </tbody>\n",
              "</table>\n",
              "</div>\n",
              "    <div class=\"colab-df-buttons\">\n",
              "\n",
              "  <div class=\"colab-df-container\">\n",
              "    <button class=\"colab-df-convert\" onclick=\"convertToInteractive('df-5a025c85-6c9e-4578-a703-2a67d9d7a295')\"\n",
              "            title=\"Convert this dataframe to an interactive table.\"\n",
              "            style=\"display:none;\">\n",
              "\n",
              "  <svg xmlns=\"http://www.w3.org/2000/svg\" height=\"24px\" viewBox=\"0 -960 960 960\">\n",
              "    <path d=\"M120-120v-720h720v720H120Zm60-500h600v-160H180v160Zm220 220h160v-160H400v160Zm0 220h160v-160H400v160ZM180-400h160v-160H180v160Zm440 0h160v-160H620v160ZM180-180h160v-160H180v160Zm440 0h160v-160H620v160Z\"/>\n",
              "  </svg>\n",
              "    </button>\n",
              "\n",
              "  <style>\n",
              "    .colab-df-container {\n",
              "      display:flex;\n",
              "      gap: 12px;\n",
              "    }\n",
              "\n",
              "    .colab-df-convert {\n",
              "      background-color: #E8F0FE;\n",
              "      border: none;\n",
              "      border-radius: 50%;\n",
              "      cursor: pointer;\n",
              "      display: none;\n",
              "      fill: #1967D2;\n",
              "      height: 32px;\n",
              "      padding: 0 0 0 0;\n",
              "      width: 32px;\n",
              "    }\n",
              "\n",
              "    .colab-df-convert:hover {\n",
              "      background-color: #E2EBFA;\n",
              "      box-shadow: 0px 1px 2px rgba(60, 64, 67, 0.3), 0px 1px 3px 1px rgba(60, 64, 67, 0.15);\n",
              "      fill: #174EA6;\n",
              "    }\n",
              "\n",
              "    .colab-df-buttons div {\n",
              "      margin-bottom: 4px;\n",
              "    }\n",
              "\n",
              "    [theme=dark] .colab-df-convert {\n",
              "      background-color: #3B4455;\n",
              "      fill: #D2E3FC;\n",
              "    }\n",
              "\n",
              "    [theme=dark] .colab-df-convert:hover {\n",
              "      background-color: #434B5C;\n",
              "      box-shadow: 0px 1px 3px 1px rgba(0, 0, 0, 0.15);\n",
              "      filter: drop-shadow(0px 1px 2px rgba(0, 0, 0, 0.3));\n",
              "      fill: #FFFFFF;\n",
              "    }\n",
              "  </style>\n",
              "\n",
              "    <script>\n",
              "      const buttonEl =\n",
              "        document.querySelector('#df-5a025c85-6c9e-4578-a703-2a67d9d7a295 button.colab-df-convert');\n",
              "      buttonEl.style.display =\n",
              "        google.colab.kernel.accessAllowed ? 'block' : 'none';\n",
              "\n",
              "      async function convertToInteractive(key) {\n",
              "        const element = document.querySelector('#df-5a025c85-6c9e-4578-a703-2a67d9d7a295');\n",
              "        const dataTable =\n",
              "          await google.colab.kernel.invokeFunction('convertToInteractive',\n",
              "                                                    [key], {});\n",
              "        if (!dataTable) return;\n",
              "\n",
              "        const docLinkHtml = 'Like what you see? Visit the ' +\n",
              "          '<a target=\"_blank\" href=https://colab.research.google.com/notebooks/data_table.ipynb>data table notebook</a>'\n",
              "          + ' to learn more about interactive tables.';\n",
              "        element.innerHTML = '';\n",
              "        dataTable['output_type'] = 'display_data';\n",
              "        await google.colab.output.renderOutput(dataTable, element);\n",
              "        const docLink = document.createElement('div');\n",
              "        docLink.innerHTML = docLinkHtml;\n",
              "        element.appendChild(docLink);\n",
              "      }\n",
              "    </script>\n",
              "  </div>\n",
              "\n",
              "\n",
              "<div id=\"df-6fc81ce0-3049-431c-997b-105577d691dc\">\n",
              "  <button class=\"colab-df-quickchart\" onclick=\"quickchart('df-6fc81ce0-3049-431c-997b-105577d691dc')\"\n",
              "            title=\"Suggest charts\"\n",
              "            style=\"display:none;\">\n",
              "\n",
              "<svg xmlns=\"http://www.w3.org/2000/svg\" height=\"24px\"viewBox=\"0 0 24 24\"\n",
              "     width=\"24px\">\n",
              "    <g>\n",
              "        <path d=\"M19 3H5c-1.1 0-2 .9-2 2v14c0 1.1.9 2 2 2h14c1.1 0 2-.9 2-2V5c0-1.1-.9-2-2-2zM9 17H7v-7h2v7zm4 0h-2V7h2v10zm4 0h-2v-4h2v4z\"/>\n",
              "    </g>\n",
              "</svg>\n",
              "  </button>\n",
              "\n",
              "<style>\n",
              "  .colab-df-quickchart {\n",
              "      --bg-color: #E8F0FE;\n",
              "      --fill-color: #1967D2;\n",
              "      --hover-bg-color: #E2EBFA;\n",
              "      --hover-fill-color: #174EA6;\n",
              "      --disabled-fill-color: #AAA;\n",
              "      --disabled-bg-color: #DDD;\n",
              "  }\n",
              "\n",
              "  [theme=dark] .colab-df-quickchart {\n",
              "      --bg-color: #3B4455;\n",
              "      --fill-color: #D2E3FC;\n",
              "      --hover-bg-color: #434B5C;\n",
              "      --hover-fill-color: #FFFFFF;\n",
              "      --disabled-bg-color: #3B4455;\n",
              "      --disabled-fill-color: #666;\n",
              "  }\n",
              "\n",
              "  .colab-df-quickchart {\n",
              "    background-color: var(--bg-color);\n",
              "    border: none;\n",
              "    border-radius: 50%;\n",
              "    cursor: pointer;\n",
              "    display: none;\n",
              "    fill: var(--fill-color);\n",
              "    height: 32px;\n",
              "    padding: 0;\n",
              "    width: 32px;\n",
              "  }\n",
              "\n",
              "  .colab-df-quickchart:hover {\n",
              "    background-color: var(--hover-bg-color);\n",
              "    box-shadow: 0 1px 2px rgba(60, 64, 67, 0.3), 0 1px 3px 1px rgba(60, 64, 67, 0.15);\n",
              "    fill: var(--button-hover-fill-color);\n",
              "  }\n",
              "\n",
              "  .colab-df-quickchart-complete:disabled,\n",
              "  .colab-df-quickchart-complete:disabled:hover {\n",
              "    background-color: var(--disabled-bg-color);\n",
              "    fill: var(--disabled-fill-color);\n",
              "    box-shadow: none;\n",
              "  }\n",
              "\n",
              "  .colab-df-spinner {\n",
              "    border: 2px solid var(--fill-color);\n",
              "    border-color: transparent;\n",
              "    border-bottom-color: var(--fill-color);\n",
              "    animation:\n",
              "      spin 1s steps(1) infinite;\n",
              "  }\n",
              "\n",
              "  @keyframes spin {\n",
              "    0% {\n",
              "      border-color: transparent;\n",
              "      border-bottom-color: var(--fill-color);\n",
              "      border-left-color: var(--fill-color);\n",
              "    }\n",
              "    20% {\n",
              "      border-color: transparent;\n",
              "      border-left-color: var(--fill-color);\n",
              "      border-top-color: var(--fill-color);\n",
              "    }\n",
              "    30% {\n",
              "      border-color: transparent;\n",
              "      border-left-color: var(--fill-color);\n",
              "      border-top-color: var(--fill-color);\n",
              "      border-right-color: var(--fill-color);\n",
              "    }\n",
              "    40% {\n",
              "      border-color: transparent;\n",
              "      border-right-color: var(--fill-color);\n",
              "      border-top-color: var(--fill-color);\n",
              "    }\n",
              "    60% {\n",
              "      border-color: transparent;\n",
              "      border-right-color: var(--fill-color);\n",
              "    }\n",
              "    80% {\n",
              "      border-color: transparent;\n",
              "      border-right-color: var(--fill-color);\n",
              "      border-bottom-color: var(--fill-color);\n",
              "    }\n",
              "    90% {\n",
              "      border-color: transparent;\n",
              "      border-bottom-color: var(--fill-color);\n",
              "    }\n",
              "  }\n",
              "</style>\n",
              "\n",
              "  <script>\n",
              "    async function quickchart(key) {\n",
              "      const quickchartButtonEl =\n",
              "        document.querySelector('#' + key + ' button');\n",
              "      quickchartButtonEl.disabled = true;  // To prevent multiple clicks.\n",
              "      quickchartButtonEl.classList.add('colab-df-spinner');\n",
              "      try {\n",
              "        const charts = await google.colab.kernel.invokeFunction(\n",
              "            'suggestCharts', [key], {});\n",
              "      } catch (error) {\n",
              "        console.error('Error during call to suggestCharts:', error);\n",
              "      }\n",
              "      quickchartButtonEl.classList.remove('colab-df-spinner');\n",
              "      quickchartButtonEl.classList.add('colab-df-quickchart-complete');\n",
              "    }\n",
              "    (() => {\n",
              "      let quickchartButtonEl =\n",
              "        document.querySelector('#df-6fc81ce0-3049-431c-997b-105577d691dc button');\n",
              "      quickchartButtonEl.style.display =\n",
              "        google.colab.kernel.accessAllowed ? 'block' : 'none';\n",
              "    })();\n",
              "  </script>\n",
              "</div>\n",
              "    </div>\n",
              "  </div>\n"
            ],
            "application/vnd.google.colaboratory.intrinsic+json": {
              "type": "dataframe",
              "variable_name": "df",
              "summary": "{\n  \"name\": \"df\",\n  \"rows\": 5,\n  \"fields\": [\n    {\n      \"column\": \"Model\",\n      \"properties\": {\n        \"dtype\": \"string\",\n        \"num_unique_values\": 4,\n        \"samples\": [\n          \"Linear SVM\",\n          \"CatBoost\",\n          \"LogisticRegression\"\n        ],\n        \"semantic_type\": \"\",\n        \"description\": \"\"\n      }\n    },\n    {\n      \"column\": \"Features\",\n      \"properties\": {\n        \"dtype\": \"string\",\n        \"num_unique_values\": 3,\n        \"samples\": [\n          \"Random + PCA\",\n          \"Original\",\n          \"Original + PCA\"\n        ],\n        \"semantic_type\": \"\",\n        \"description\": \"\"\n      }\n    },\n    {\n      \"column\": \"Accuracy\",\n      \"properties\": {\n        \"dtype\": \"number\",\n        \"std\": 1.8232580727916707,\n        \"min\": 83.78,\n        \"max\": 88.28,\n        \"num_unique_values\": 5,\n        \"samples\": [\n          87.74,\n          87.45,\n          83.78\n        ],\n        \"semantic_type\": \"\",\n        \"description\": \"\"\n      }\n    },\n    {\n      \"column\": \"Training_time\",\n      \"properties\": {\n        \"dtype\": \"number\",\n        \"std\": 1010.0520316053031,\n        \"min\": 59.79,\n        \"max\": 2487.8,\n        \"num_unique_values\": 5,\n        \"samples\": [\n          515.0,\n          109.71,\n          2487.8\n        ],\n        \"semantic_type\": \"\",\n        \"description\": \"\"\n      }\n    },\n    {\n      \"column\": \"Prediction_time\",\n      \"properties\": {\n        \"dtype\": \"number\",\n        \"std\": 89.16788278298414,\n        \"min\": 0.05,\n        \"max\": 199.67,\n        \"num_unique_values\": 5,\n        \"samples\": [\n          0.45,\n          0.15,\n          0.05\n        ],\n        \"semantic_type\": \"\",\n        \"description\": \"\"\n      }\n    }\n  ]\n}"
            }
          },
          "metadata": {},
          "execution_count": 16
        }
      ]
    },
    {
      "cell_type": "markdown",
      "source": [
        "**Вывод:** По таблице видно, что лучшей по доле правильных ответов оказалась модель ядрового SVM с исходными признаками, за ней идет линейный SVM со случайными признаками, которая на 4% лучше линейного SVM с исходными признаками и чуть лучше градиентного бустинга. Логистическая регрессия со случайными признаками также показала результат на 2% выше, чем линейный SVM с исходными признаками, но хуже, чем остальные модели. В целом, с точки зрения качества, модели со случайными признаками показывают результаты выше, что подтверждается сравнением линейного SVM с исходными и случайными признаками.\n",
        "\n",
        "Быстрее всего обучается модель логистической регрессии со случайными признаками, после него  идет градиентный бустинг с PCA. Дольше всего обучается линейный SVM с исходными признаками, но если использовать эту модель со случайными признаками и PCA, то время обучения падает в 5 раз.\n",
        "\n",
        "Наибольшая скорость применения у линейного SVM с исходными признаками, затем идет градиентный бустинг, после этого модели со случайными признаками. В целом, время применения у всех моделей низкое, меньше полсекунды, кроме модели ядрового SVM, у которого применение 200 секунд.\n",
        "\n",
        "Таким образом, использование случайных признаков и PCA, повышает качество снижает время обучения, но немного увеличивает время применения, что не так критично, так как значение меньше полсекунды."
      ],
      "metadata": {
        "id": "di_rI3_DuDZp"
      }
    },
    {
      "cell_type": "markdown",
      "metadata": {
        "id": "e6umjhWuK-hV"
      },
      "source": [
        "__Задание 3. (2 балла)__\n",
        "\n",
        "Проведите эксперименты:\n",
        "1. Помогает ли предварительное понижение размерности с помощью PCA?\n",
        "2. Как зависит итоговое качество от n_features? Выходит ли оно на плато при росте n_features?\n",
        "3. Важно ли, какую модель обучать — логистическую регрессию или SVM?"
      ]
    },
    {
      "cell_type": "markdown",
      "source": [
        "**С использованием PCA:**"
      ],
      "metadata": {
        "id": "9o9iwMsmJzsL"
      }
    },
    {
      "cell_type": "code",
      "execution_count": null,
      "metadata": {
        "id": "c2QIHIMbK-hW",
        "colab": {
          "base_uri": "https://localhost:8080/"
        },
        "outputId": "d1d80e8c-c3c3-404f-aece-3d1c114ca345"
      },
      "outputs": [
        {
          "output_type": "stream",
          "name": "stdout",
          "text": [
            "Доля верных ответов на тестовой выборке, 85.63%\n"
          ]
        }
      ],
      "source": [
        "pipeline = RFFPipeline(n_features=1000, new_dim=50, feature_creator_class=RandomFeatureCreator)\n",
        "pipeline.fit(x_train, y_train)\n",
        "y_pred = pipeline.predict(x_test)\n",
        "accuracy = sum(y_pred == y_test)/len(y_test)*100\n",
        "print(f'Доля верных ответов на тестовой выборке: {round(accuracy, 2)}%')"
      ]
    },
    {
      "cell_type": "code",
      "source": [
        "pipeline = RFFPipeline(n_features=500, new_dim=50, feature_creator_class=RandomFeatureCreator)\n",
        "pipeline.fit(x_train, y_train)\n",
        "y_pred = pipeline.predict(x_test)\n",
        "accuracy = sum(y_pred == y_test)/len(y_test)*100\n",
        "print(f'Доля верных ответов на тестовой выборке: {round(accuracy, 2)}%')"
      ],
      "metadata": {
        "colab": {
          "base_uri": "https://localhost:8080/"
        },
        "id": "c62KS5xTKRNA",
        "outputId": "c49c80f7-c7b6-4685-c75d-766f45bf6f5c"
      },
      "execution_count": null,
      "outputs": [
        {
          "output_type": "stream",
          "name": "stdout",
          "text": [
            "Доля верных ответов на тестовой выборке, 85.39%\n"
          ]
        }
      ]
    },
    {
      "cell_type": "markdown",
      "source": [
        "**Без использования PCA:**"
      ],
      "metadata": {
        "id": "W0Baf-w_KuQn"
      }
    },
    {
      "cell_type": "code",
      "source": [
        "pipeline = RFFPipeline(n_features=1000, new_dim=50, feature_creator_class=RandomFeatureCreator, use_PCA = False)\n",
        "pipeline.fit(x_train, y_train)\n",
        "y_pred = pipeline.predict(x_test)\n",
        "accuracy = sum(y_pred == y_test)/len(y_test)*100\n",
        "print(f'Доля верных ответов на тестовой выборке: {round(accuracy, 2)}%')"
      ],
      "metadata": {
        "colab": {
          "base_uri": "https://localhost:8080/"
        },
        "id": "KFeqNQhMJ95a",
        "outputId": "035d71ae-3c86-4246-9a5a-71a8e9fb92d8"
      },
      "execution_count": null,
      "outputs": [
        {
          "output_type": "stream",
          "name": "stdout",
          "text": [
            "Доля верных ответов на тестовой выборке, 11.42%\n"
          ]
        }
      ]
    },
    {
      "cell_type": "code",
      "source": [
        "pipeline = RFFPipeline(n_features=500, new_dim=50, feature_creator_class=RandomFeatureCreator, use_PCA = False)\n",
        "pipeline.fit(x_train, y_train)\n",
        "y_pred = pipeline.predict(x_test)\n",
        "accuracy = sum(y_pred == y_test)/len(y_test)*100\n",
        "print(f'Доля верных ответов на тестовой выборке: {round(accuracy, 2)}%')"
      ],
      "metadata": {
        "colab": {
          "base_uri": "https://localhost:8080/"
        },
        "id": "cJ07k2rYKSf6",
        "outputId": "29a5c4b8-5b81-4c8e-88bf-e462c0307805"
      },
      "execution_count": null,
      "outputs": [
        {
          "output_type": "stream",
          "name": "stdout",
          "text": [
            "Доля верных ответов на тестовой выборке, 11.18%\n"
          ]
        }
      ]
    },
    {
      "cell_type": "markdown",
      "source": [
        "**1. Вывод:** предварительное понижение размерности с помощью PCA существенно помогает, так как доля верных ответов увеличивается примерно в 8 раз и составляет 85,5%. Без PCA доля верных ответов около 11%, что можно сравнить с угадыванием ответа."
      ],
      "metadata": {
        "id": "SGOoKa9XK4T1"
      }
    },
    {
      "cell_type": "markdown",
      "source": [
        "**Зависимость итогового качества от n_features:**"
      ],
      "metadata": {
        "id": "coWrHTs_LOLa"
      }
    },
    {
      "cell_type": "code",
      "source": [
        "accuracies = []\n",
        "for n_features in [1, 5, 10, 25, 50, 100, 250, 500, 750, 1000, 2500, 5000]:\n",
        "    pipeline = RFFPipeline(n_features=n_features, new_dim=50, feature_creator_class=RandomFeatureCreator)\n",
        "    pipeline.fit(x_train, y_train)\n",
        "    y_pred = pipeline.predict(x_test)\n",
        "    accuracy = sum(y_pred == y_test)/len(y_test)*100\n",
        "    accuracies.append(accuracy)\n",
        "    print(f'Доля верных ответов на тестовой выборке при n_features = {n_features}: {round(accuracy, 2)}%')"
      ],
      "metadata": {
        "colab": {
          "base_uri": "https://localhost:8080/"
        },
        "id": "1uJK3KsRLfKP",
        "outputId": "790ba6e0-085e-46b9-bd22-e015e04c94f4"
      },
      "execution_count": null,
      "outputs": [
        {
          "output_type": "stream",
          "name": "stdout",
          "text": [
            "Доля верных ответов на тестовой выборке при n_features = 1: 16.73%\n",
            "Доля верных ответов на тестовой выборке при n_features = 5: 44.05%\n",
            "Доля верных ответов на тестовой выборке при n_features = 10: 63.93%\n",
            "Доля верных ответов на тестовой выборке при n_features = 25: 75.97%\n",
            "Доля верных ответов на тестовой выборке при n_features = 50: 80.82%\n",
            "Доля верных ответов на тестовой выборке при n_features = 100: 83.57%\n",
            "Доля верных ответов на тестовой выборке при n_features = 250: 84.85%\n",
            "Доля верных ответов на тестовой выборке при n_features = 500: 85.27%\n",
            "Доля верных ответов на тестовой выборке при n_features = 750: 85.48%\n",
            "Доля верных ответов на тестовой выборке при n_features = 1000: 85.93%\n",
            "Доля верных ответов на тестовой выборке при n_features = 2500: 85.87%\n",
            "Доля верных ответов на тестовой выборке при n_features = 5000: 85.97%\n"
          ]
        }
      ]
    },
    {
      "cell_type": "code",
      "source": [
        "import matplotlib.pyplot as plt\n",
        "n_features = [1, 5, 10, 25, 50, 100, 250, 500, 750, 1000, 2500, 5000]\n",
        "\n",
        "plt.figure(figsize=(16, 8))\n",
        "plt.plot(n_features, accuracies, marker='o')\n",
        "\n",
        "plt.title('Зависимость итогового качества (accuracy) от n_features:', fontsize=16)\n",
        "plt.xlabel('n_features', fontsize=14)\n",
        "plt.ylabel('accuracy', fontsize=14)\n",
        "\n",
        "plt.grid(True)"
      ],
      "metadata": {
        "colab": {
          "base_uri": "https://localhost:8080/",
          "height": 726
        },
        "id": "V3qIscTNOZ_0",
        "outputId": "38e4b9c9-6179-4fcf-fbb1-6442d35090c8"
      },
      "execution_count": null,
      "outputs": [
        {
          "output_type": "display_data",
          "data": {
            "text/plain": [
              "<Figure size 1600x800 with 1 Axes>"
            ],
            "image/png": "[encoded data removed]"
          },
          "metadata": {}
        }
      ]
    },
    {
      "cell_type": "markdown",
      "source": [
        "**2. Вывод:** Сначала качество стремительно возрастает при росте n_features и преодолевает значение 80% при 100 признаках, после этого рост начинает замедляться все сильнее и сильнее и при 1000 признаках выходит на плато с качеством 85,9%."
      ],
      "metadata": {
        "id": "L2bIBXpdM2OR"
      }
    },
    {
      "cell_type": "markdown",
      "source": [
        "**Модель логистической регрессии:**"
      ],
      "metadata": {
        "id": "2mDlj21vM7_l"
      }
    },
    {
      "cell_type": "code",
      "source": [
        "pipeline = RFFPipeline(n_features=1000, new_dim=50, feature_creator_class=RandomFeatureCreator)\n",
        "pipeline.fit(x_train, y_train)\n",
        "y_pred = pipeline.predict(x_test)\n",
        "accuracy = sum(y_pred == y_test)/len(y_test)*100\n",
        "print(f'Доля верных ответов на тестовой выборке: {round(accuracy, 2)}%')"
      ],
      "metadata": {
        "colab": {
          "base_uri": "https://localhost:8080/"
        },
        "id": "nzI3jn_oNygb",
        "outputId": "6da34dc3-8d42-4f0f-a390-492ae1be54db"
      },
      "execution_count": null,
      "outputs": [
        {
          "output_type": "stream",
          "name": "stdout",
          "text": [
            "Доля верных ответов на тестовой выборке: 85.85%\n"
          ]
        }
      ]
    },
    {
      "cell_type": "code",
      "source": [
        "pipeline = RFFPipeline(n_features=500, new_dim=25, feature_creator_class=RandomFeatureCreator)\n",
        "pipeline.fit(x_train, y_train)\n",
        "y_pred = pipeline.predict(x_test)\n",
        "accuracy = sum(y_pred == y_test)/len(y_test)*100\n",
        "print(f'Доля верных ответов на тестовой выборке: {round(accuracy, 2)}%')"
      ],
      "metadata": {
        "colab": {
          "base_uri": "https://localhost:8080/"
        },
        "id": "heANY_uJNzH6",
        "outputId": "e25d7abe-e811-4114-a6fc-edc7c93cd61d"
      },
      "execution_count": null,
      "outputs": [
        {
          "output_type": "stream",
          "name": "stdout",
          "text": [
            "Доля верных ответов на тестовой выборке: 84.2%\n"
          ]
        }
      ]
    },
    {
      "cell_type": "markdown",
      "source": [
        "**Модель SVM:**"
      ],
      "metadata": {
        "id": "E2phO2-_NQBe"
      }
    },
    {
      "cell_type": "code",
      "source": [
        "pipeline = RFFPipeline(n_features=1000, new_dim=50, feature_creator_class=RandomFeatureCreator, classifier_class=LinearSVC)\n",
        "pipeline.fit(x_train, y_train)\n",
        "y_pred = pipeline.predict(x_test)\n",
        "accuracy = sum(y_pred == y_test)/len(y_test)*100\n",
        "print(f'Доля верных ответов на тестовой выборке: {round(accuracy, 2)}%')"
      ],
      "metadata": {
        "colab": {
          "base_uri": "https://localhost:8080/"
        },
        "id": "CVVqTlKaM18K",
        "outputId": "9c5f36fe-5861-4134-f771-3ffcff71f944"
      },
      "execution_count": null,
      "outputs": [
        {
          "output_type": "stream",
          "name": "stdout",
          "text": [
            "Доля верных ответов на тестовой выборке: 88.14%\n"
          ]
        }
      ]
    },
    {
      "cell_type": "code",
      "source": [
        "pipeline = RFFPipeline(n_features=500, new_dim=25, feature_creator_class=RandomFeatureCreator, classifier_class=LinearSVC)\n",
        "pipeline.fit(x_train, y_train)\n",
        "y_pred = pipeline.predict(x_test)\n",
        "accuracy = sum(y_pred == y_test)/len(y_test)*100\n",
        "print(f'Доля верных ответов на тестовой выборке: {round(accuracy, 2)}%')"
      ],
      "metadata": {
        "colab": {
          "base_uri": "https://localhost:8080/"
        },
        "id": "_M5NHcWANzhs",
        "outputId": "485f0ac6-c077-41af-e61f-a6d8b08d2509"
      },
      "execution_count": null,
      "outputs": [
        {
          "output_type": "stream",
          "name": "stdout",
          "text": [
            "Доля верных ответов на тестовой выборке: 86.49%\n"
          ]
        }
      ]
    },
    {
      "cell_type": "markdown",
      "source": [
        "**3. Вывод:** Выбор модели важен, так как в проведенных экспериментах (также и в других заданиях) SVM показывает выше качество на 2-2.5%, чем логистическая регрессия."
      ],
      "metadata": {
        "id": "sfU1di2cOM9N"
      }
    },
    {
      "cell_type": "markdown",
      "metadata": {
        "id": "QVDWHCdrK-hX"
      },
      "source": [
        "__Задание 4. (Максимум 1.5 балла)__\n",
        "\n",
        "Как вы, должно быть, помните с курса МО-1, многие алгоритмы машинного обучения работают лучше, если признаки данных некоррелированы. Оказывается, что для RFF существует модификация, позволяющая получать ортогональные случайные признаки (Orthogonal Random Features, ORF). Об этом методе можно прочитать в [статье](https://proceedings.neurips.cc/paper/2016/file/53adaf494dc89ef7196d73636eb2451b-Paper.pdf). Реализуйте класс для вычисления ORF по аналогии с основным заданием. Обратите внимание, что ваш класс должен уметь работать со случаем n_features > new_dim (в статье есть замечание на этот счет), n_features=new_dim и n_features < new_dim также должны работать, убедитесь в этом. Проведите эксперименты, сравнивающие RFF и ORF, сделайте выводы.\n"
      ]
    },
    {
      "cell_type": "markdown",
      "source": [
        "**n_features > new_dim:**"
      ],
      "metadata": {
        "id": "BWNVfhBZkWq9"
      }
    },
    {
      "cell_type": "markdown",
      "source": [
        "*ORF:*"
      ],
      "metadata": {
        "id": "h1l37jpsTSnp"
      }
    },
    {
      "cell_type": "code",
      "execution_count": null,
      "metadata": {
        "id": "HSxvGI9iK-hX",
        "colab": {
          "base_uri": "https://localhost:8080/"
        },
        "outputId": "19e7c782-dcd5-4f14-cafc-34e6f4fb2382"
      },
      "outputs": [
        {
          "output_type": "stream",
          "name": "stdout",
          "text": [
            "Доля верных ответов на тестовой выборке, 86.07%\n"
          ]
        }
      ],
      "source": [
        "pipeline = RFFPipeline(n_features=1000, new_dim=50, feature_creator_class=OrthogonalRandomFeatureCreator)\n",
        "pipeline.fit(x_train, y_train)\n",
        "y_pred = pipeline.predict(x_test)\n",
        "accuracy = sum(y_pred == y_test)/len(y_test)*100\n",
        "print(f'Доля верных ответов на тестовой выборке: {round(accuracy, 2)}%')"
      ]
    },
    {
      "cell_type": "markdown",
      "source": [
        "*RRF:*"
      ],
      "metadata": {
        "id": "qV-dmJ-6TTso"
      }
    },
    {
      "cell_type": "code",
      "source": [
        "pipeline = RFFPipeline(n_features=1000, new_dim=50, feature_creator_class=RandomFeatureCreator)\n",
        "pipeline.fit(x_train, y_train)\n",
        "y_pred = pipeline.predict(x_test)\n",
        "accuracy = sum(y_pred == y_test)/len(y_test)*100\n",
        "print(f'Доля верных ответов на тестовой выборке: {round(accuracy, 2)}%')"
      ],
      "metadata": {
        "colab": {
          "base_uri": "https://localhost:8080/"
        },
        "id": "TcWh4sClrHqJ",
        "outputId": "4d6f30f3-74a4-4168-b96c-439de4a60f98"
      },
      "execution_count": null,
      "outputs": [
        {
          "output_type": "stream",
          "name": "stdout",
          "text": [
            "Доля верных ответов на тестовой выборке, 86.0%\n"
          ]
        }
      ]
    },
    {
      "cell_type": "markdown",
      "source": [
        "**n_features = new_dim:**"
      ],
      "metadata": {
        "id": "evAftMnbkbgU"
      }
    },
    {
      "cell_type": "markdown",
      "source": [
        "*ORF:*"
      ],
      "metadata": {
        "id": "3CX80rWWTSCN"
      }
    },
    {
      "cell_type": "code",
      "source": [
        "pipeline = RFFPipeline(n_features=100, new_dim=100, feature_creator_class=OrthogonalRandomFeatureCreator)\n",
        "pipeline.fit(x_train, y_train)\n",
        "y_pred = pipeline.predict(x_test)\n",
        "accuracy = sum(y_pred == y_test)/len(y_test)*100\n",
        "print(f'Доля верных ответов на тестовой выборке: {round(accuracy, 2)}%')"
      ],
      "metadata": {
        "colab": {
          "base_uri": "https://localhost:8080/"
        },
        "id": "N6F8yWDJkdgu",
        "outputId": "512485f3-c8d4-40e9-f76e-34feadef41f4"
      },
      "execution_count": null,
      "outputs": [
        {
          "output_type": "stream",
          "name": "stdout",
          "text": [
            "Доля верных ответов на тестовой выборке, 83.61%\n"
          ]
        }
      ]
    },
    {
      "cell_type": "markdown",
      "source": [
        "*RRF:*"
      ],
      "metadata": {
        "id": "UNapcIN_TVxV"
      }
    },
    {
      "cell_type": "code",
      "source": [
        "pipeline = RFFPipeline(n_features=100, new_dim=100, feature_creator_class=RandomFeatureCreator)\n",
        "pipeline.fit(x_train, y_train)\n",
        "y_pred = pipeline.predict(x_test)\n",
        "accuracy = sum(y_pred == y_test)/len(y_test)*100\n",
        "print(f'Доля верных ответов на тестовой выборке: {round(accuracy, 2)}%')"
      ],
      "metadata": {
        "colab": {
          "base_uri": "https://localhost:8080/"
        },
        "id": "obQ0mahgrMWJ",
        "outputId": "73bafa3a-eeb4-49e4-a8c6-0ac462a32a0c"
      },
      "execution_count": null,
      "outputs": [
        {
          "output_type": "stream",
          "name": "stdout",
          "text": [
            "Доля верных ответов на тестовой выборке, 82.84%\n"
          ]
        }
      ]
    },
    {
      "cell_type": "markdown",
      "source": [
        "**n_features < new_dim:**"
      ],
      "metadata": {
        "id": "K-xK-_94kd_O"
      }
    },
    {
      "cell_type": "markdown",
      "source": [
        "*ORF:*"
      ],
      "metadata": {
        "id": "z5XoDS_zTPnw"
      }
    },
    {
      "cell_type": "code",
      "source": [
        "pipeline = RFFPipeline(n_features=100, new_dim=150, feature_creator_class=OrthogonalRandomFeatureCreator)\n",
        "pipeline.fit(x_train, y_train)\n",
        "y_pred = pipeline.predict(x_test)\n",
        "accuracy = sum(y_pred == y_test)/len(y_test)*100\n",
        "print(f'Доля верных ответов на тестовой выборке: {round(accuracy, 2)}%')"
      ],
      "metadata": {
        "colab": {
          "base_uri": "https://localhost:8080/"
        },
        "id": "5AItjVcrkgfJ",
        "outputId": "ecde0d25-0399-44e8-a8a2-b2b31565c850"
      },
      "execution_count": null,
      "outputs": [
        {
          "output_type": "stream",
          "name": "stdout",
          "text": [
            "Доля верных ответов на тестовой выборке, 83.93%\n"
          ]
        }
      ]
    },
    {
      "cell_type": "markdown",
      "source": [
        "*RRF:*"
      ],
      "metadata": {
        "id": "74CzG1sNTWt7"
      }
    },
    {
      "cell_type": "code",
      "source": [
        "pipeline = RFFPipeline(n_features=100, new_dim=150, feature_creator_class=RandomFeatureCreator)\n",
        "pipeline.fit(x_train, y_train)\n",
        "y_pred = pipeline.predict(x_test)\n",
        "accuracy = sum(y_pred == y_test)/len(y_test)*100\n",
        "print(f'Доля верных ответов на тестовой выборке: {round(accuracy, 2)}%')"
      ],
      "metadata": {
        "colab": {
          "base_uri": "https://localhost:8080/"
        },
        "id": "iQMJIL18rOwF",
        "outputId": "a2fce1f2-a5a0-49c8-c8d4-7ac86c8d3ce5"
      },
      "execution_count": null,
      "outputs": [
        {
          "output_type": "stream",
          "name": "stdout",
          "text": [
            "Доля верных ответов на тестовой выборке, 82.2%\n"
          ]
        }
      ]
    },
    {
      "cell_type": "markdown",
      "source": [
        "**Без предварительного понижения размерности с помощью МГК:**"
      ],
      "metadata": {
        "id": "rYjXaWafksEy"
      }
    },
    {
      "cell_type": "markdown",
      "source": [
        "*ORF:*"
      ],
      "metadata": {
        "id": "oIs1ISDPTLCF"
      }
    },
    {
      "cell_type": "code",
      "source": [
        "pipeline = RFFPipeline(n_features=1000, new_dim=50, feature_creator_class=OrthogonalRandomFeatureCreator, use_PCA=False)\n",
        "pipeline.fit(x_train, y_train)\n",
        "y_pred = pipeline.predict(x_test)\n",
        "accuracy = sum(y_pred == y_test)/len(y_test)*100\n",
        "print(f'Доля верных ответов на тестовой выборке: {round(accuracy, 2)}%')"
      ],
      "metadata": {
        "colab": {
          "base_uri": "https://localhost:8080/"
        },
        "id": "lvJSCKnxq5Pc",
        "outputId": "f849610e-ce8e-47be-ad3c-529eaacf475d"
      },
      "execution_count": null,
      "outputs": [
        {
          "output_type": "stream",
          "name": "stdout",
          "text": [
            "Доля верных ответов на тестовой выборке, 10.85%\n"
          ]
        }
      ]
    },
    {
      "cell_type": "markdown",
      "source": [
        "*RFF:*"
      ],
      "metadata": {
        "id": "5G5nojYUTNXl"
      }
    },
    {
      "cell_type": "code",
      "source": [
        "pipeline = RFFPipeline(n_features=1000, new_dim=50, feature_creator_class=RandomFeatureCreator, use_PCA=False)\n",
        "pipeline.fit(x_train, y_train)\n",
        "y_pred = pipeline.predict(x_test)\n",
        "accuracy = sum(y_pred == y_test)/len(y_test)*100\n",
        "print(f'Доля верных ответов на тестовой выборке: {round(accuracy, 2)}%')"
      ],
      "metadata": {
        "colab": {
          "base_uri": "https://localhost:8080/"
        },
        "id": "JE3MSqnLq4IC",
        "outputId": "bd25df62-6c31-4644-b29b-536ab9b66545"
      },
      "execution_count": null,
      "outputs": [
        {
          "output_type": "stream",
          "name": "stdout",
          "text": [
            "Доля верных ответов на тестовой выборке, 11.6%\n"
          ]
        }
      ]
    },
    {
      "cell_type": "markdown",
      "source": [
        "**Другой тип линейной модели:**"
      ],
      "metadata": {
        "id": "1Z4euFezk7d4"
      }
    },
    {
      "cell_type": "markdown",
      "source": [
        "*ORF:*"
      ],
      "metadata": {
        "id": "BB141KiLRKGU"
      }
    },
    {
      "cell_type": "code",
      "source": [
        "pipeline = RFFPipeline(n_features=1000, new_dim=50, feature_creator_class=OrthogonalRandomFeatureCreator, classifier_class=LinearSVC)\n",
        "pipeline.fit(x_train, y_train)\n",
        "y_pred = pipeline.predict(x_test)\n",
        "accuracy = sum(y_pred == y_test)/len(y_test)*100\n",
        "print(f'Доля верных ответов на тестовой выборке: {round(accuracy, 2)}%')"
      ],
      "metadata": {
        "colab": {
          "base_uri": "https://localhost:8080/"
        },
        "id": "y_mpJHffriXp",
        "outputId": "83523dd2-30ff-4cfe-bf5f-193300883828"
      },
      "execution_count": null,
      "outputs": [
        {
          "output_type": "stream",
          "name": "stdout",
          "text": [
            "Доля верных ответов на тестовой выборке, 87.94%\n"
          ]
        }
      ]
    },
    {
      "cell_type": "markdown",
      "source": [
        "*RFF:*"
      ],
      "metadata": {
        "id": "SVsfgrbYRMwX"
      }
    },
    {
      "cell_type": "code",
      "source": [
        "pipeline = RFFPipeline(n_features=1000, new_dim=50, feature_creator_class=RandomFeatureCreator, classifier_class=LinearSVC)\n",
        "pipeline.fit(x_train, y_train)\n",
        "y_pred = pipeline.predict(x_test)\n",
        "accuracy = sum(y_pred == y_test)/len(y_test)*100\n",
        "print(f'Доля верных ответов на тестовой выборке: {round(accuracy, 2)}%')"
      ],
      "metadata": {
        "colab": {
          "base_uri": "https://localhost:8080/"
        },
        "id": "GLYj0WHVriu2",
        "outputId": "0d98042a-caf3-4048-99ac-a7c737e6157e"
      },
      "execution_count": null,
      "outputs": [
        {
          "output_type": "stream",
          "name": "stdout",
          "text": [
            "Доля верных ответов на тестовой выборке: 88.07%\n"
          ]
        }
      ]
    },
    {
      "cell_type": "markdown",
      "source": [
        "**Вывод:** по результатам видно, что ORF показывает результаты не хуже, а чаще всего даже лучше на 1-1.5%, чем RFF, при разных значениях n_features и new_dim. Однако без использования PCA, RFF показывает качество выше, но это в данном случае неважно, так как все равно доля правильных ответов всего 10%, следовательно, разница может быть только из-за рандомной генерации весов. При другом типе линейной модели (линейный SVM) RFF и ORF показывают схожие результаты."
      ],
      "metadata": {
        "id": "abiRRrJPL9Vt"
      }
    },
    {
      "cell_type": "markdown",
      "metadata": {
        "id": "4pc7-1jmK-hY"
      },
      "source": [
        "__Задание 5. (Максимум 1 балл)__\n",
        "\n",
        "Существует большое количество работ, где идея RFF развивается, предлагаются её обобщения (которые, по сути, выливаются в другие преобразования признаков, не обязательно уже тригонометрические). Возьмите любую из таких работ, кратко опишите идею, имплементируйте её и сравните качество с ORF и RFF, которые вы запрограммировали выше.\n",
        "\n",
        "Ссылки на статьи, где обсуждаются вариации RFF для разных ядер, можно найти в окрестности таблицы 1 в работе https://arxiv.org/pdf/1407.5599  \n",
        "\n",
        "___ссылка на работу:___ https://papers.nips.cc/paper_files/paper/2007/file/013a006f03dbc5392effeb8f18fda755-Paper.pdf\n",
        "\n",
        "___описание идеи:___ В данной работе рассматривается метод Random Binning Features (RBF), основанный на случайном разбиении признаков на несколько бинов (интервалов). На уровне одно объекта все происходит по такому алгоритму:\n",
        "\n",
        "1) Для каждого признака генерируются случайные параметры: верхняя граница интервала (дельта, в других источниках я заметил, что ее генерируют с помощью гамма распределения) и сдвиг (u, равномерное распределение с границами, как у интервала: 0 и дельта).\n",
        "\n",
        "2) Для каждого объекта вычисляется, в какой бин попадает его значение для каждого признака.\n",
        "\n",
        "3) Формируется новый признак для каждого объекта — бинарный вектор, который показывает, в какой бин попадает значение каждого признака. Этот вектор нормируется на корень из количества новых признаков.\n",
        "\n",
        "После применения этого алгоритма для каждого объекта, новые признаки объединяются в итоговую матрицу признаков.\n",
        "\n",
        "Внутреннее произведение между парой преобразованных точек пропорционально количеству раз, когда две точки объединяются в один интервал, и, следовательно, является несмещенной оценкой k(x, y)."
      ]
    },
    {
      "cell_type": "markdown",
      "source": [
        "![image.png](data:image/png;base64,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)"
      ],
      "metadata": {
        "id": "B4q6llko0cu0"
      }
    },
    {
      "cell_type": "markdown",
      "source": [
        "*RBF:*"
      ],
      "metadata": {
        "id": "-HSFD_mK8u_O"
      }
    },
    {
      "cell_type": "code",
      "execution_count": 5,
      "metadata": {
        "id": "dWj-O2vjK-hY",
        "colab": {
          "base_uri": "https://localhost:8080/"
        },
        "outputId": "1de4b601-8bf4-4cdd-b841-0861c6cf4d7e"
      },
      "outputs": [
        {
          "output_type": "stream",
          "name": "stdout",
          "text": [
            "Доля верных ответов на тестовой выборке: 80.96%\n"
          ]
        }
      ],
      "source": [
        "pipeline = RFFPipeline(n_features=1000, new_dim=50, feature_creator_class=RandomBinningFeatureCreator)\n",
        "pipeline.fit(x_train[:5000], y_train[:5000])\n",
        "y_pred = pipeline.predict(x_test[:5000])\n",
        "accuracy = sum(y_pred == y_test[:5000])/len(y_test[:5000])*100\n",
        "print(f'Доля верных ответов на тестовой выборке: {round(accuracy, 2)}%')"
      ]
    },
    {
      "cell_type": "markdown",
      "source": [
        "*RFF:*"
      ],
      "metadata": {
        "id": "rA-Ee2GZ8y86"
      }
    },
    {
      "cell_type": "code",
      "source": [
        "pipeline = RFFPipeline(n_features=1000, new_dim=50, feature_creator_class=RandomFeatureCreator)\n",
        "pipeline.fit(x_train[:5000], y_train[:5000])\n",
        "y_pred = pipeline.predict(x_test[:5000])\n",
        "accuracy = sum(y_pred == y_test[:5000])/len(y_test[:5000])*100\n",
        "print(f'Доля верных ответов на тестовой выборке: {round(accuracy, 2)}%')"
      ],
      "metadata": {
        "colab": {
          "base_uri": "https://localhost:8080/"
        },
        "id": "3DwwBpmW-Z6E",
        "outputId": "5c807a94-4fcd-4f75-dafb-1e582d569f28"
      },
      "execution_count": 6,
      "outputs": [
        {
          "output_type": "stream",
          "name": "stdout",
          "text": [
            "Доля верных ответов на тестовой выборке: 84.0%\n"
          ]
        }
      ]
    },
    {
      "cell_type": "markdown",
      "source": [
        "*ORF:*"
      ],
      "metadata": {
        "id": "ZtiOuTP082Uk"
      }
    },
    {
      "cell_type": "code",
      "source": [
        "pipeline = RFFPipeline(n_features=1000, new_dim=50, feature_creator_class=OrthogonalRandomFeatureCreator)\n",
        "pipeline.fit(x_train[:5000], y_train[:5000])\n",
        "y_pred = pipeline.predict(x_test[:5000])\n",
        "accuracy = sum(y_pred == y_test[:5000])/len(y_test[:5000])*100\n",
        "print(f'Доля верных ответов на тестовой выборке: {round(accuracy, 2)}%')"
      ],
      "metadata": {
        "colab": {
          "base_uri": "https://localhost:8080/"
        },
        "id": "fIeRHuqc-ViG",
        "outputId": "a12e10a6-e64a-439c-f2a4-e7f1c1e7b5b6"
      },
      "execution_count": 7,
      "outputs": [
        {
          "output_type": "stream",
          "name": "stdout",
          "text": [
            "Доля верных ответов на тестовой выборке: 83.84%\n"
          ]
        }
      ]
    },
    {
      "cell_type": "markdown",
      "source": [
        "**Вывод:** Данный метод обучается очень долго, поэтому я использовал подвыборку из 5000 объектов. По результатам можно сделать вывод, что метод RBF хоть и дает высокое качество, но на 3% ниже, чем RFF и ORF. Также стоит учесть, что время обучения и применения у RBF намного больше."
      ],
      "metadata": {
        "id": "v1LAe-J94kuf"
      }
    },
    {
      "cell_type": "markdown",
      "metadata": {
        "id": "A0ZQ_6Znv7Ny"
      },
      "source": [
        "__Задание 6. (Максимум 2.5 балла)__\n",
        "\n",
        "Реализуйте класс ядровой Ridge регрессии (Лекция 13, $\\S 1.2$), для оптимизации используте градиентный спуск **[1 балл максимум]**, также добавьте возможность использовать аналитическую формулу **[1 балл максимум]**. Для градиентного спуска выпишите градиент ниже **[0.5 баллов максимум]**.\n",
        "Подумайте о том, как в формулах правильно учесть свободный коэффициент.\n",
        "\n",
        "Затем адаптируйте вашу реализацию RFF под задачу регрессии. Сравните вашу ядровую регрессию и RFF на синтетических данных."
      ]
    },
    {
      "cell_type": "markdown",
      "metadata": {
        "id": "MI03MBy2v7Nz"
      },
      "source": [
        "Функция потерь:\n",
        "$$\n",
        "Q(w) = \\frac{1}{2} ||\\Phi \\Phi^T w - y||^2 + \\frac{\\lambda}{2} w^T \\Phi \\Phi^T w \\rightarrow \\min_w,\n",
        "$$\n",
        "где $\\Phi \\Phi^T = K$, $K = (k(x_i, x_j))_{i, j = 1}^{\\ell}$.\n",
        "\n",
        "Предсказание:\n",
        "$\n",
        "y(x) = k(x)^T w,\n",
        "$\n",
        "где $k(x)$ — вектор функций ядра от пар объектов $(x, x_i)_{i=1}^{\\ell}$.\n",
        "\n",
        "___Выведите градиент:___\n",
        "$$\n",
        "\\nabla Q(w) = \\Phi \\Phi^T(\\Phi \\Phi^T w - y) + \\lambda \\Phi \\Phi^T w\n",
        "$$\n",
        "\n",
        "Вы можете изменять представленный шаблон в файле `homework_practice_08_kernel_regression.py` по своему усмотрению."
      ]
    },
    {
      "cell_type": "code",
      "source": [
        "import numpy as np\n",
        "from sklearn.base import RegressorMixin\n",
        "from sklearn.gaussian_process.kernels import RBF\n",
        "\n",
        "\n",
        "class KernelRidgeRegression(RegressorMixin):\n",
        "    \"\"\"\n",
        "    Kernel Ridge regression class\n",
        "    \"\"\"\n",
        "\n",
        "    def __init__(\n",
        "        self,\n",
        "        lr=0.01,\n",
        "        regularization=1.0,\n",
        "        tolerance=1e-2,\n",
        "        max_iter=1000,\n",
        "        batch_size=64,\n",
        "        kernel_scale=1.0,\n",
        "    ):\n",
        "        \"\"\"\n",
        "        :param lr: learning rate\n",
        "        :param regularization: regularization coefficient\n",
        "        :param tolerance: stopping criterion for square of euclidean norm of weight difference\n",
        "        :param max_iter: stopping criterion for iterations\n",
        "        :param batch_size: size of the batches used in gradient descent steps\n",
        "        :parame kernel_scale: length scale in RBF kernel formula\n",
        "        \"\"\"\n",
        "\n",
        "        self.lr: float = lr\n",
        "        self.regularization: float = regularization\n",
        "        self.w: np.ndarray | None = None\n",
        "\n",
        "        self.tolerance: float = tolerance\n",
        "        self.max_iter: int = max_iter\n",
        "        self.batch_size: int = batch_size\n",
        "        self.loss_history: list[float] = []\n",
        "        self.kernel = RBF(kernel_scale)\n",
        "\n",
        "    def calc_loss(self, x: np.ndarray, y: np.ndarray) -> float:\n",
        "        \"\"\"\n",
        "        Calculating loss for x and y dataset\n",
        "        :param x: features array\n",
        "        :param y: targets array\n",
        "        \"\"\"\n",
        "        K = self.kernel(x)\n",
        "        loss = 1/2*(np.linalg.norm(K @ self.w - y))**2 + self.regularization/2 * (self.w[:-1].T @ K[:-1,:-1] @ self.w[:-1])\n",
        "        return loss\n",
        "\n",
        "    def calc_grad(self, x: np.ndarray, y: np.ndarray) -> float:\n",
        "        \"\"\"\n",
        "        Calculating gradient for x and y dataset\n",
        "        :param x: features array\n",
        "        :param y: targets array\n",
        "        \"\"\"\n",
        "        K = self.kernel(x)\n",
        "        grad = K @ (K @ self.w[self.indexes] - y) + self.regularization * (K @ self.w[self.indexes])\n",
        "        return grad\n",
        "\n",
        "    def fit(self, x: np.ndarray, y: np.ndarray) -> \"KernelRidgeRegression\":\n",
        "        \"\"\"\n",
        "        Получение параметров с помощью градиентного спуска\n",
        "        :param x: features array\n",
        "        :param y: targets array\n",
        "        :return: self\n",
        "        \"\"\"\n",
        "        K = self.kernel(x)\n",
        "        self.X_train = x\n",
        "        n_samples = x.shape[0]\n",
        "        self.w = np.zeros(n_samples)\n",
        "        for iter in range(self.max_iter):\n",
        "            self.indexes = np.random.choice(n_samples-1, self.batch_size, replace=True)\n",
        "            x_batch = x[self.indexes]\n",
        "            y_batch = y[self.indexes]\n",
        "            grad = self.calc_grad(x_batch, y_batch)\n",
        "            self.w[self.indexes] -= self.lr*grad\n",
        "\n",
        "            loss = self.calc_loss(x, y)\n",
        "            self.loss_history.append(loss)\n",
        "\n",
        "            if np.linalg.norm(grad) < self.tolerance:\n",
        "                break\n",
        "\n",
        "        return self.loss_history\n",
        "\n",
        "    def fit_closed_form(self, x: np.ndarray, y: np.ndarray) -> \"KernelRidgeRegression\":\n",
        "        \"\"\"\n",
        "        Получение параметров через аналитическое решение\n",
        "        :param x: features array\n",
        "        :param y: targets array\n",
        "        :return: self\n",
        "        \"\"\"\n",
        "        K = self.kernel(x)\n",
        "        self.X_train = x\n",
        "        self.w = np.linalg.inv(K + self.regularization * np.eye(K.shape[0])) @ y\n",
        "        return self\n",
        "\n",
        "    def predict(self, x: np.ndarray) -> np.ndarray:\n",
        "        \"\"\"\n",
        "        Predicting targets for x dataset\n",
        "        :param x: features array\n",
        "        :return: prediction: np.ndarray\n",
        "        \"\"\"\n",
        "        K = self.kernel(x, self.X_train)\n",
        "        return K @ self.w"
      ],
      "metadata": {
        "id": "VXsbX2EGXvpi"
      },
      "execution_count": 67,
      "outputs": []
    },
    {
      "cell_type": "markdown",
      "source": [
        "*Синтетические данные:*"
      ],
      "metadata": {
        "id": "cMCW6G5aLw3O"
      }
    },
    {
      "cell_type": "markdown",
      "source": [
        "Чтобы учесть свободный коэффициент, я добавил столбец из единиц к матрицам x, но bias регулизовать не нужно, поэтому я убрал последний вес при подсчете лосса и градиента в слагаемом с регуляризацией."
      ],
      "metadata": {
        "id": "75hgWrTgaZQf"
      }
    },
    {
      "cell_type": "code",
      "source": [
        "from sklearn.datasets import make_regression\n",
        "from sklearn.model_selection import train_test_split\n",
        "\n",
        "x, y = make_regression(n_samples=1000, n_features=100, noise=10)\n",
        "\n",
        "x_train, x_test, y_train, y_test = train_test_split(x, y, test_size=0.3)\n",
        "\n",
        "x_train_with_constant = np.hstack([x_train, np.ones([x_train.shape[0], 1])])\n",
        "x_test_with_constant = np.hstack([x_test, np.ones([x_test.shape[0], 1])])"
      ],
      "metadata": {
        "id": "7DXZxUbYQanZ"
      },
      "execution_count": 3,
      "outputs": []
    },
    {
      "cell_type": "markdown",
      "source": [
        "**KernelRidgeRegression (градиентный спуск):**"
      ],
      "metadata": {
        "id": "s5AKY_ew1rlL"
      }
    },
    {
      "cell_type": "code",
      "source": [
        "KRR = KernelRidgeRegression(max_iter=2000, lr=0.05, regularization=0.1, kernel_scale=5)\n",
        "losses = KRR.fit(x_train_with_constant, y_train)\n",
        "y_pred = KRR.predict(x_test_with_constant)\n",
        "mse = sum((y_pred - y_test)**2)/len(y_test)\n",
        "print(f'MSE на тестовой выборке: {round(mse, 2)}')"
      ],
      "metadata": {
        "colab": {
          "base_uri": "https://localhost:8080/"
        },
        "id": "ylD8X54pUwED",
        "outputId": "abbca35b-a433-4d3a-d565-54c3cd69858f"
      },
      "execution_count": 109,
      "outputs": [
        {
          "output_type": "stream",
          "name": "stdout",
          "text": [
            "MSE на тестовой выборке: 15134.77\n"
          ]
        }
      ]
    },
    {
      "cell_type": "code",
      "source": [
        "plt.figure(figsize=(16, 8))\n",
        "plt.plot(losses)\n",
        "\n",
        "plt.title('Loss на тренировочной выборке:', fontsize=16)\n",
        "plt.xlabel('iteration', fontsize=14)\n",
        "plt.ylabel('loss', fontsize=14)\n",
        "\n",
        "plt.grid(True)"
      ],
      "metadata": {
        "colab": {
          "base_uri": "https://localhost:8080/",
          "height": 726
        },
        "id": "l9Sq7kWpzj3o",
        "outputId": "814d7515-a616-4ac5-fdd2-7619ad5907d7"
      },
      "execution_count": 110,
      "outputs": [
        {
          "output_type": "display_data",
          "data": {
            "text/plain": [
              "<Figure size 1600x800 with 1 Axes>"
            ],
            "image/png": "[encoded data removed]"
          },
          "metadata": {}
        }
      ]
    },
    {
      "cell_type": "markdown",
      "source": [
        "**KernelRidgeRegression (аналитическая формула):**"
      ],
      "metadata": {
        "id": "OoUInD1N0kqo"
      }
    },
    {
      "cell_type": "code",
      "source": [
        "for kernel_scale in [1, 3, 5, 7, 10, 12, 15, 20]:\n",
        "    KRR = KernelRidgeRegression(kernel_scale=kernel_scale)\n",
        "    KRR.fit_closed_form(x_train_with_constant, y_train)\n",
        "    y_pred = KRR.predict(x_test_with_constant)\n",
        "    mse = sum((y_pred - y_test)**2)/len(y_test)\n",
        "    print(f'MSE на тестовой выборке при kernel_scale = {kernel_scale}: {round(mse, 2)}')"
      ],
      "metadata": {
        "colab": {
          "base_uri": "https://localhost:8080/"
        },
        "id": "oAGOi_A6MBW3",
        "outputId": "acdf7ee6-11b0-4d99-c766-2ada4d52d389"
      },
      "execution_count": 70,
      "outputs": [
        {
          "output_type": "stream",
          "name": "stdout",
          "text": [
            "MSE на тестовой выборке при kernel_scale = 1: 41448.14\n",
            "MSE на тестовой выборке при kernel_scale = 3: 41330.48\n",
            "MSE на тестовой выборке при kernel_scale = 5: 25783.21\n",
            "MSE на тестовой выборке при kernel_scale = 7: 10760.02\n",
            "MSE на тестовой выборке при kernel_scale = 10: 6028.67\n",
            "MSE на тестовой выборке при kernel_scale = 12: 5762.48\n",
            "MSE на тестовой выборке при kernel_scale = 15: 6586.57\n",
            "MSE на тестовой выборке при kernel_scale = 20: 9303.57\n"
          ]
        }
      ]
    },
    {
      "cell_type": "code",
      "source": [
        "for regularization in [0.001, 0.005, 0.01, 0.05, 0.1]:\n",
        "    KRR = KernelRidgeRegression(kernel_scale=12, regularization=regularization)\n",
        "    KRR.fit_closed_form(x_train_with_constant, y_train)\n",
        "    y_pred = KRR.predict(x_test_with_constant)\n",
        "    mse = sum((y_pred - y_test)**2)/len(y_test)\n",
        "    print(f'MSE на тестовой выборке при regularization = {regularization}: {round(mse, 2)}')"
      ],
      "metadata": {
        "colab": {
          "base_uri": "https://localhost:8080/"
        },
        "id": "wnq7yO-9NMlz",
        "outputId": "b86e3ec3-0a6c-45fe-a026-0a728dd951f0"
      },
      "execution_count": 88,
      "outputs": [
        {
          "output_type": "stream",
          "name": "stdout",
          "text": [
            "MSE на тестовой выборке при regularization = 0.001: 461.1\n",
            "MSE на тестовой выборке при regularization = 0.005: 472.55\n",
            "MSE на тестовой выборке при regularization = 0.01: 487.25\n",
            "MSE на тестовой выборке при regularization = 0.05: 618.04\n",
            "MSE на тестовой выборке при regularization = 0.1: 807.78\n"
          ]
        }
      ]
    },
    {
      "cell_type": "markdown",
      "source": [
        "**RFF + RidgeRegression:**"
      ],
      "metadata": {
        "id": "BtwtcW6gMq9t"
      }
    },
    {
      "cell_type": "code",
      "source": [
        "from sklearn.linear_model import Ridge\n",
        "\n",
        "\n",
        "for n_features in [100, 250, 500, 750, 1000, 2500, 5000, 10000, 20000, 30000, 40000, 50000, 75000]:\n",
        "    pipeline = RFFPipeline(n_features=n_features, feature_creator_class=RandomFeatureCreator, classifier_class=Ridge, use_PCA=False)\n",
        "    pipeline.fit(x_train, y_train)\n",
        "    y_pred = pipeline.predict(x_test)\n",
        "    mse = sum((y_pred - y_test)**2)/len(y_test)\n",
        "    print(f'MSE на тестовой выборке при n_features = {n_features}: {round(mse, 2)}')"
      ],
      "metadata": {
        "colab": {
          "base_uri": "https://localhost:8080/"
        },
        "id": "yHd3JDiLnvxs",
        "outputId": "d535cfa0-a170-4144-b2a2-96675f2f35e7"
      },
      "execution_count": 74,
      "outputs": [
        {
          "output_type": "stream",
          "name": "stdout",
          "text": [
            "MSE на тестовой выборке при n_features = 100: 25524.41\n",
            "MSE на тестовой выборке при n_features = 250: 9163.15\n",
            "MSE на тестовой выборке при n_features = 500: 5244.26\n",
            "MSE на тестовой выборке при n_features = 750: 3778.32\n",
            "MSE на тестовой выборке при n_features = 1000: 2241.31\n",
            "MSE на тестовой выборке при n_features = 2500: 771.17\n",
            "MSE на тестовой выборке при n_features = 5000: 577.9\n",
            "MSE на тестовой выборке при n_features = 10000: 374.75\n",
            "MSE на тестовой выборке при n_features = 20000: 342.63\n",
            "MSE на тестовой выборке при n_features = 30000: 332.33\n",
            "MSE на тестовой выборке при n_features = 40000: 331.53\n",
            "MSE на тестовой выборке при n_features = 50000: 328.75\n",
            "MSE на тестовой выборке при n_features = 75000: 307.68\n"
          ]
        }
      ]
    },
    {
      "cell_type": "markdown",
      "source": [
        "**Вывод:** RFF показывает результаты лучше, благодаря подбору количества новых признаков. Даже если подбирать оптимальные параметры в ядровой регрессии, все равно MSE будет выше, чем у RFF, для которого мы изменяли только параметр n_features, а коэффициент регуляризации не трогали. Все-таки большое количество случайных признаков сильно улучшает качество."
      ],
      "metadata": {
        "id": "TYPAA-yVN4g5"
      }
    }
  ],
  "metadata": {
    "colab": {
      "provenance": [],
      "gpuType": "V28"
    },
    "kernelspec": {
      "display_name": "Python 3",
      "name": "python3"
    },
    "language_info": {
      "codemirror_mode": {
        "name": "ipython",
        "version": 3
      },
      "file_extension": ".py",
      "mimetype": "text/x-python",
      "name": "python",
      "nbconvert_exporter": "python",
      "pygments_lexer": "ipython3",
      "version": "3.12.7"
    },
    "accelerator": "TPU"
  },
  "nbformat": 4,
  "nbformat_minor": 0
}